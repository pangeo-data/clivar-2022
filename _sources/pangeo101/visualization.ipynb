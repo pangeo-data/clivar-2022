{
 "cells": [
  {
   "cell_type": "markdown",
   "id": "1bfbae7a-12f1-4787-a520-c3de7529168d",
   "metadata": {},
   "source": [
    "# Interactive plotting with HoloViews"
   ]
  },
  {
   "cell_type": "markdown",
   "id": "887cc17d-fbb2-430b-b73b-4eb494361a5f",
   "metadata": {},
   "source": [
    "## Authors & Contributors\n",
    "\n",
    "### Authors\n",
    "\n",
    "- Pier Lorenzo Marasco, Ispra (Italy), [@pl-marasco](https://github.com/pl-marasco)\n",
    "- Anne Fouilloux, Simula Research Laboratory (Norway), [@annefou](https://github.com/annefou)\n",
    "\n",
    "### Contributors\n",
    "\n",
    "- Alejandro Coca-Castro, The Alan Turing Institute (United Kingdom), [@acocac](https://github.com/acocac)"
   ]
  },
  {
   "cell_type": "markdown",
   "id": "ffa7efb4-455f-4d93-86e9-0e80b42dc922",
   "metadata": {},
   "source": [
    "<div class=\"alert alert-info\">\n",
    "<i class=\"fa-question-circle fa\" style=\"font-size: 22px;color:#666;\"></i> Overview\n",
    "    <br>\n",
    "    <br>\n",
    "    <b>Questions</b>\n",
    "    <ul>\n",
    "        <li>How to clip Xarray DataSet with a shapefile to plot an area of interest?</li>\n",
    "        <li>How to generate interactive maps with Holoviews?</li>\n",
    "        <li>How to browse multiple times with Holoviews interactive maps?</li>\n",
    "        <li>How to generate an interactive 1D plot with Holoviews?</li>\n",
    "    </ul>\n",
    "    <b>Objectives</b>\n",
    "    <ul>\n",
    "        <li>Learn about Holoviews and Xarray for creating interactive plots</li>\n",
    "        <li>Learn to create interactive maps with Holoviews</li>\n",
    "        <li>Learn to create multiple interactive plots with holoviews</li>\n",
    "        <li>Learn to create a 1D line plot with holoviews</li>\n",
    "    </ul>\n",
    "</div>"
   ]
  },
  {
   "cell_type": "markdown",
   "id": "83d5b756",
   "metadata": {},
   "source": [
    "## Context\n",
    "\n",
    "\n",
    "We will be using [HoloViews](https://holoviews.org/), a tool part of the [HoloViz](https://holoviz.org/) ecosystem, with Xarray to visualize the near-surface temperature from CMIP6 CESM2 (monthly dataset).\n",
    "\n",
    "### Data\n",
    "\n",
    "We will visualize the same data that have been used in the previous episode.\n",
    "\n",
    "If the dataset is not present in the same folder as this Jupyter notebook, it will be downloaded from zenodo using `pooch`, a very handy python-based library to download and cache your data files locally (see further info [here](https://www.fatiando.org/pooch/latest/index.html))."
   ]
  },
  {
   "cell_type": "code",
   "execution_count": null,
   "id": "e26e7ca3",
   "metadata": {},
   "outputs": [],
   "source": [
    "import pooch\n",
    "\n",
    "tas_file = pooch.retrieve(\n",
    "    url=\"https://zenodo.org/record/7181714/files/CMIP6_NCAR_CESM2_historical_amon_gn.nc\",\n",
    "    known_hash=\"md5:5f86251e5bc5ef9b86a3a86cd06a536b\",\n",
    "    path=f\".\",\n",
    ")"
   ]
  },
  {
   "cell_type": "markdown",
   "id": "b35084af",
   "metadata": {},
   "source": [
    "## Setup\n",
    "\n",
    "This episode uses the following main Python packages:\n",
    "\n",
    "- xarray {cite:ps}`b-xarray-hoyer2017` with [`netCDF4`](https://pypi.org/project/h5netcdf/) and [`h5netcdf`](https://pypi.org/project/h5netcdf/) engines\n",
    "- pooch {cite:ps}`b-pooch-Uieda2020`\n",
    "- rioxarray {cite:ps}`b-rioxarray-snow2022`\n",
    "- matplotlib {cite:ps}`b-matplotlib-Hunter2007`\n",
    "- cartopy {cite:ps}`b-cartopy-mo2010`\n",
    "- hvplot {cite:ps}`b-holoviews-rudiger2020`\n",
    "- geopandas {cite:ps}`b-geopandas-jordahl2020`\n",
    "\n",
    "Please install these packages if not already available in your Python environment.\n",
    "\n",
    "### Packages\n",
    "\n",
    "In this episode, Python packages are imported when we start to use them. However, for best software practices, we recommend you to install and import all the necessary libraries at the top of your Jupyter notebook."
   ]
  },
  {
   "cell_type": "code",
   "execution_count": null,
   "id": "589df42a",
   "metadata": {},
   "outputs": [],
   "source": [
    "import xarray as xr"
   ]
  },
  {
   "cell_type": "markdown",
   "id": "e1864936",
   "metadata": {},
   "source": [
    "## Open local dataset"
   ]
  },
  {
   "cell_type": "code",
   "execution_count": null,
   "id": "3a4e25c7",
   "metadata": {},
   "outputs": [],
   "source": [
    "tas_ds = xr.open_dataset(tas_file)"
   ]
  },
  {
   "cell_type": "markdown",
   "id": "05647913",
   "metadata": {},
   "source": [
    ":::{tip}\n",
    "If you get an error with the previous command, check the previous episode where the input file some_hash-CMIP6_NCAR_CESM2_historical_amon_gn.nc is downloaded locally and it is in the same directory as your Jupyter Notebook.\n",
    ":::"
   ]
  },
  {
   "cell_type": "code",
   "execution_count": null,
   "id": "c471061b",
   "metadata": {},
   "outputs": [],
   "source": [
    "tas_ds"
   ]
  },
  {
   "cell_type": "markdown",
   "id": "53228b8a",
   "metadata": {},
   "source": [
    "## Clipping data according to a polygon\n",
    "\n",
    "One of the basic concepts in GIS is to clip data using a vector geometry. Xarray is not directly capable of dealing with vectors but thanks to Rioxarray that can be easily achieved.\n",
    "Rioxarray extends Xarray with most of the features that Rasterio (GDAL) brings."
   ]
  },
  {
   "cell_type": "markdown",
   "id": "72c3884f",
   "metadata": {},
   "source": [
    "## Read a shapefile with the Area Of Interest (AOI)"
   ]
  },
  {
   "cell_type": "code",
   "execution_count": null,
   "id": "67a06c9b",
   "metadata": {},
   "outputs": [],
   "source": [
    "import geopandas as gpd"
   ]
  },
  {
   "cell_type": "markdown",
   "id": "42fa26af",
   "metadata": {},
   "source": [
    "We define the area of interest using the Global Administrative Unit Layers [GAUL G2015_2014](https://data.apps.fao.org/map/catalog/srv/eng/catalog.search#/metadata/9c35ba10-5649-41c8-bdfc-eb78e9e65654) provided by FAO-UN (see [Documentation](https://data.apps.fao.org/map/catalog/srv/api/records/9c35ba10-5649-41c8-bdfc-eb78e9e65654/attachments/GAUL2015_Documentation.zip)).\n",
    "[`GeoPandas`](https://geopandas.org/en/stable/), a python-based library extending the capabilities of [`Pandas`](https://pandas.pydata.org/) to deal with geometry and spatial operations, will help to manage geodata.\n",
    "\n",
    "The official data distribution from FAO is through the WFS service (see below how to retrieve data):\n",
    "\n",
    "```\n",
    "GAUL = gpd.read_file('https://data.apps.fao.org/map/gsrv/gsrv1/gaul/wfs?'\n",
    "                     'service=WFS&version=2.0.0&'\n",
    "                     'Request=GetFeature&'\n",
    "                     'TypeNames=gaul:g2015_2014_2&'\n",
    "                     'srsName=EPSG%3A4326&'\n",
    "                     'maxFeatures=2500&'\n",
    "                     'outputFormat=json')\n",
    "```\n",
    "Unfortunately it seems that the service is pretty slow. As an alternative to this approach the JRC MARS unit is distributing the original dataset that was in shapefile format. To accelerate the fetch we highly recommend to follow this approach.\n",
    "\n",
    "For the training course, we also created a tiny file containing information about Norway only."
   ]
  },
  {
   "cell_type": "code",
   "execution_count": null,
   "id": "b9ecc1bf",
   "metadata": {},
   "outputs": [],
   "source": [
    "try:\n",
    "    GAUL = gpd.read_file('Norway.geojson')\n",
    "except:\n",
    "    GAUL = gpd.read_file('zip+https://mars.jrc.ec.europa.eu/asap/files/gaul1_asap.zip') "
   ]
  },
  {
   "cell_type": "markdown",
   "id": "c81b3f59",
   "metadata": {},
   "source": [
    "Data are organized in a tabular structure. For each element an index, data (made of columns) and a geometry are defined.\n",
    "\n",
    "Geometries are defined through [shapely](https://shapely.readthedocs.io/en/stable/) geometry objects with three different basic classes:\n",
    "\n",
    "- Points and Multi-Points\n",
    "- Lines and Multi-Lines\n",
    "- Polygons and Multi-Polygons"
   ]
  },
  {
   "cell_type": "code",
   "execution_count": null,
   "id": "b6170902",
   "metadata": {},
   "outputs": [],
   "source": [
    "GAUL.head(5)"
   ]
  },
  {
   "cell_type": "markdown",
   "id": "90bb9677",
   "metadata": {},
   "source": [
    "In the cell below, we subset the polygon geometry in which the `name0` field equals to `Norway`."
   ]
  },
  {
   "cell_type": "code",
   "execution_count": null,
   "id": "76524c4d",
   "metadata": {},
   "outputs": [],
   "source": [
    "AOI_name = 'Norway'\n",
    "AOI = GAUL[GAUL.name0 == AOI_name]\n",
    "AOI_poly = AOI.geometry\n",
    "AOI_poly"
   ]
  },
  {
   "cell_type": "markdown",
   "id": "609afdfe",
   "metadata": {},
   "source": [
    "In a second step we set a EPSG:4326 Geodetic coordinate reference system to the polygon geometry. To achieve this we need to rely on rioxarray that extends xarray with the rasterio capabilities. The rio accessor is activated through importing rioxarray as has been done at the top."
   ]
  },
  {
   "cell_type": "code",
   "execution_count": null,
   "id": "fb168af1",
   "metadata": {},
   "outputs": [],
   "source": [
    "tas_ds.rio.write_crs(4326, inplace=True)"
   ]
  },
  {
   "cell_type": "markdown",
   "id": "3aa126da",
   "metadata": {},
   "source": [
    "Once this has been done we can clip the data with the polygon that has been obtained through geopandas at the beginning of the notebook."
   ]
  },
  {
   "cell_type": "code",
   "execution_count": null,
   "id": "692ffe23",
   "metadata": {},
   "outputs": [],
   "source": [
    "tas_AOI = tas_ds.tas.rio.clip(AOI_poly, crs=4326)"
   ]
  },
  {
   "cell_type": "code",
   "execution_count": null,
   "id": "f3aaf0e9-cb9b-4cb7-bd00-9ce7b2763aaf",
   "metadata": {},
   "outputs": [],
   "source": [
    "tas_AOI"
   ]
  },
  {
   "cell_type": "markdown",
   "id": "cc11b522",
   "metadata": {},
   "source": [
    "## Visualize with matplotlib"
   ]
  },
  {
   "cell_type": "code",
   "execution_count": null,
   "id": "8b8a5882",
   "metadata": {},
   "outputs": [],
   "source": [
    "import matplotlib.pyplot as plt\n",
    "import cartopy.crs as ccrs"
   ]
  },
  {
   "cell_type": "code",
   "execution_count": null,
   "id": "7d57475f",
   "metadata": {},
   "outputs": [],
   "source": [
    "fig = plt.figure(1, figsize=[20, 10])\n",
    "\n",
    "# We're using cartopy and are plotting in PlateCarree projection \n",
    "# (see documentation on cartopy)\n",
    "ax = plt.subplot(1, 1, 1, projection=ccrs.AlbersEqualArea(central_longitude=20.0, central_latitude=40.0))\n",
    "#ax.set_extent([15.5, 27.5, 36, 41], crs=ccrs.PlateCarree()) # lon1 lon2 lat1 lat2\n",
    "ax.coastlines(resolution='10m')\n",
    "ax.gridlines(draw_labels=True)\n",
    "\n",
    "tas_AOI.sel(time='1980-06-15').plot(ax=ax, transform=ccrs.PlateCarree(), cmap=\"coolwarm\")\n",
    "\n",
    "# One way to customize your title\n",
    "plt.title(\"Near surface temperature in Norway\", fontsize=18)"
   ]
  },
  {
   "cell_type": "markdown",
   "id": "95420290",
   "metadata": {},
   "source": [
    "## Visualization with HoloViews"
   ]
  },
  {
   "cell_type": "code",
   "execution_count": null,
   "id": "ee46dfd3",
   "metadata": {},
   "outputs": [],
   "source": [
    "import holoviews as hv\n",
    "import hvplot.xarray\n",
    "import hvplot.pandas"
   ]
  },
  {
   "cell_type": "markdown",
   "id": "15226e0a",
   "metadata": {},
   "source": [
    "Plotting data through the HoloViews back-end thanks to the hvplot that acts as high-level plotting API."
   ]
  },
  {
   "cell_type": "code",
   "execution_count": null,
   "id": "d1ffd0ef",
   "metadata": {},
   "outputs": [],
   "source": [
    "tas_AOI.isel(time=0, member_id=0).hvplot(cmap=\"coolwarm\", width=1000, height=1000)"
   ]
  },
  {
   "cell_type": "markdown",
   "id": "2d2a4ca6",
   "metadata": {},
   "source": [
    "Having a look to data distribution can reveal a lot about the data."
   ]
  },
  {
   "cell_type": "code",
   "execution_count": null,
   "id": "e32bc8d9",
   "metadata": {},
   "outputs": [],
   "source": [
    "tas_AOI[0].hvplot.hist(cmap=\"coolwarm\",bins=25, width=800, height=700)"
   ]
  },
  {
   "cell_type": "markdown",
   "id": "3472fbdd",
   "metadata": {},
   "source": [
    "### Multi-plots using groupby\n",
    "\n",
    "To be able to visualize interactively all the different available times, we can use `groupby` time."
   ]
  },
  {
   "cell_type": "code",
   "execution_count": null,
   "id": "dbfcdc9b",
   "metadata": {},
   "outputs": [],
   "source": [
    "tas_AOI.isel(member_id=0).hvplot(groupby ='time', cmap=\"coolwarm\", width=800, height=700)"
   ]
  },
  {
   "cell_type": "markdown",
   "id": "2454acd9",
   "metadata": {},
   "source": [
    "We can add a histogram to the visualization."
   ]
  },
  {
   "cell_type": "code",
   "execution_count": null,
   "id": "ad7fc6a3",
   "metadata": {},
   "outputs": [],
   "source": [
    "tas_AOI.isel(member_id=0).hvplot(groupby='time', cmap='coolwarm', width=800, height=700 ).hist()"
   ]
  },
  {
   "cell_type": "markdown",
   "id": "69256d2d-df10-49cd-a2f1-e98fb0a2b4f0",
   "metadata": {},
   "source": [
    "### Plot data on a particular projection"
   ]
  },
  {
   "cell_type": "code",
   "execution_count": null,
   "id": "815b8e67-f29b-4b7b-aa1b-04d6c5bec29c",
   "metadata": {},
   "outputs": [],
   "source": [
    "plot = tas_AOI.isel(time=0, member_id=0).hvplot.quadmesh(x='lon', y='lat'\n",
    "                          , rasterize=True\n",
    "                          , geo=True\n",
    "                          , global_extent=False\n",
    "                          , projection=ccrs.Orthographic(30, 90)  \n",
    "                          , project=True\n",
    "                          , cmap='coolwarm'\n",
    "                          , coastline='50m'           \n",
    "                          , frame_width=400\n",
    "                          , title=\"Near-surface Temperature over Norway (CMIP6 CESM2)\"\n",
    "                            )"
   ]
  },
  {
   "cell_type": "code",
   "execution_count": null,
   "id": "a24875db-e25a-45ef-81ad-baca1da67408",
   "metadata": {},
   "outputs": [],
   "source": [
    "plot"
   ]
  },
  {
   "cell_type": "markdown",
   "id": "01d3b737",
   "metadata": {},
   "source": [
    "### Plot a single point over the time dimension"
   ]
  },
  {
   "cell_type": "code",
   "execution_count": null,
   "id": "a04175e2",
   "metadata": {},
   "outputs": [],
   "source": [
    "tas_AOI.isel(member_id=0).sel(lat=60, lon=10.75, method='nearest').hvplot(ylim=(260, 293))"
   ]
  },
  {
   "cell_type": "markdown",
   "id": "cc3e5553",
   "metadata": {},
   "source": [
    "<div class=\"alert alert-success\">\n",
    "    <i class=\"fa-check-circle fa\" style=\"font-size: 22px;color:#666;\"></i> <b>Key Points</b>\n",
    "    <br>\n",
    "    <ul>\n",
    "        <li>Rioxarray for clipping over an area of interest</li>\n",
    "        <li>Interactive plot with HoloViews and Xarray</li>\n",
    "    </ul>\n",
    "</div>"
   ]
  },
  {
   "cell_type": "markdown",
   "id": "46475434",
   "metadata": {},
   "source": []
  },
  {
   "cell_type": "markdown",
   "id": "5bb83fd0",
   "metadata": {},
   "source": [
    "## References\n",
    "\n",
    "```{bibliography}\n",
    ":style: alpha\n",
    ":filter: topic % \"visualization\" and not topic % \"package\"\n",
    ":keyprefix: b-\n",
    "```"
   ]
  },
  {
   "cell_type": "markdown",
   "id": "94fa3939",
   "metadata": {},
   "source": [
    "## Packages citation\n",
    "\n",
    "```{bibliography}\n",
    ":style: alpha\n",
    ":filter: topic % \"visualization\" and topic % \"package\"\n",
    ":keyprefix: b-\n",
    "```"
   ]
  },
  {
   "cell_type": "markdown",
   "id": "0b9486db",
   "metadata": {},
   "source": []
  }
 ],
 "metadata": {
  "kernelspec": {
   "display_name": "Python 3 (ipykernel)",
   "language": "python",
   "name": "python3"
  },
  "language_info": {
   "codemirror_mode": {
    "name": "ipython",
    "version": 3
   },
   "file_extension": ".py",
   "mimetype": "text/x-python",
   "name": "python",
   "nbconvert_exporter": "python",
   "pygments_lexer": "ipython3",
   "version": "3.9.13"
  }
 },
 "nbformat": 4,
 "nbformat_minor": 5
}
