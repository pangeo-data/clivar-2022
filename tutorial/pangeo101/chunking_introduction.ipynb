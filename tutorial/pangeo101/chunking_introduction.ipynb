{
 "cells": [
  {
   "cell_type": "markdown",
   "id": "1bfbae7a-12f1-4787-a520-c3de7529168d",
   "metadata": {},
   "source": [
    "# Data chunking"
   ]
  },
  {
   "cell_type": "markdown",
   "id": "281bb79b-1b06-42c9-98d5-6185252c86e5",
   "metadata": {},
   "source": [
    "## Authors & Contributors\n",
    "### Authors\n",
    "- Tina Odaka, Ifremer (France), [@tinaok](https://github.com/tinaok)\n",
    "- Pier Lorenzo Marasco, Ispra (Italy), [@pl-marasco](https://github.com/pl-marasco)\n",
    "\n",
    "### Contributors\n",
    "- Anne Fouilloux, University of Oslo (Norway), [@annefou](https://github.com/annefou)\n",
    "- Guillaume Eynard-Bontemps, CNES (France), [@guillaumeeb](https://github.com/guillaumeeb)\n",
    "\n"
   ]
  },
  {
   "cell_type": "markdown",
   "id": "f245decb-8706-4b55-aead-79dd7a621bdd",
   "metadata": {},
   "source": [
    "<div class=\"alert alert-info\">\n",
    "<i class=\"fa-question-circle fa\" style=\"font-size: 22px;color:#666;\"></i> Overview\n",
    "    <br>\n",
    "    <br>\n",
    "    <b>Questions</b>\n",
    "    <ul>\n",
    "        <li>Why do chunking matter?</li>\n",
    "        <li>How can I read datasets by chunks to optimize memory usage?</li>\n",
    "    </ul>\n",
    "    <b>Objectives</b>\n",
    "    <ul>\n",
    "        <li>Learn about chunking</li>\n",
    "        <li>Learn about zarr </li>\n",
    "        <li>Use kerchunk to consolidate chunk metadata and prepare single ensemble datasets for parallel computing</li>\n",
    "    </ul>\n",
    "</div>"
   ]
  },
  {
   "cell_type": "markdown",
   "id": "013c3e5a-1ddf-4178-a05e-2ce711ab1b8b",
   "metadata": {},
   "source": [
    "## Context\n",
    "\n",
    "When dealing with large data files or collections, it's often impossible to load all the data you want to analyze into a single computer's RAM at once. This is a situation where the Pangeo ecosystem can help you a lot. Xarray offers the possibility to work lazily on data __chunks__, which means pieces of an entire dataset. By reading a dataset in __chunks__ we can process our data piece by piece on a single computer and even on a distributed computing cluster using Dask (Cloud or HPC for instance).\n",
    "\n",
    "How we will process these 'chunks' in a parallel environment will be discussed in [dask_introduction](./dask_introduction.ipynb). The concept of __chunk__ will be explained here.\n",
    "\n",
    "When we process our data piece by piece, it's easier to have our input or ouput data also saved in __chunks__. [Zarr](https://zarr.readthedocs.io/en/stable/) is the reference library in the Pangeo ecosystem to save our Xarray multidimentional datasets in __chunks__.\n",
    "\n",
    "[Zarr](https://zarr.readthedocs.io/en/stable/) is not the only file format which uses __chunk__. We will also be using [kerchunk library](https://fsspec.github.io/kerchunk/) in this notebook to build a virtual __chunked__ dataset based on NetCDF files, and show how it optimizes the access and analysis of large datasets.\n",
    "\n",
    "The analysis is very similar to what we have done in previous episodes, however we will use data on a global coverage and not only on a small geographical area (e.g. Lombardia).\n",
    "\n",
    "### Data\n",
    "\n",
    "In this episode, we will be using Global Long Term Statistics (1999-2019) products provided by the [Copernicus Global Land Service](https://land.copernicus.eu/global/index.html) and access them through [S3-comptabile storage](https://en.wikipedia.org/wiki/Amazon_S3) ([OpenStack Object Storage \"Swift\"](https://wiki.openstack.org/wiki/Swift)) with a data catalog we have created and made publicly available."
   ]
  },
  {
   "cell_type": "markdown",
   "id": "3c600794-dd9e-400b-bd09-dbb6e7039dad",
   "metadata": {},
   "source": [
    "## Setup\n",
    "\n",
    "This episode uses the following main Python packages:\n",
    "\n",
    "- fsspec {cite:ps}`d-fsspec-2018`\n",
    "- s3fs {cite:ps}`d-s3fs-2016`\n",
    "- xarray {cite:ps}`d-xarray-hoyer2017` with [`netCDF4`](https://pypi.org/project/h5netcdf/) and [`h5netcdf`](https://pypi.org/project/h5netcdf/) engines\n",
    "- dask {cite:ps}`d-dask-2016`\n",
    "- kerchunk {cite:ps}`d-kerchunk-2021`\n",
    "- geopandas {cite:ps}`d-geopandas-jordahl2020`\n",
    "- matplotlib {cite:ps}`d-matplotlib-Hunter2007`\n",
    "\n",
    "Please install these packages if not already available in your Python environment (see [Setup page](https://pangeo-data.github.io/foss4g-2022/before/setup.html)).\n",
    "\n",
    "### Packages\n",
    "\n",
    "In this episode, Python packages are imported when we start to use them. However, for best software practices, we recommend you to install and import all the necessary libraries at the top of your Jupyter notebook."
   ]
  },
  {
   "cell_type": "markdown",
   "id": "d1f4818f-2b6b-44c1-af77-97daf8a1c2a1",
   "metadata": {},
   "source": [
    "## Global LTS\n",
    "\n",
    "In the previous episode, we used Long Term statistics time-series for the region of Lombardy e.g. a very small area. Now we would like to use the original dataset that has a global coverage. Let us first open a single file (for January 1999-2019) to understand how much larger the global dataset is."
   ]
  },
  {
   "cell_type": "code",
   "execution_count": 3,
   "id": "b4a418ed-c764-4577-803c-a6947db16966",
   "metadata": {},
   "outputs": [],
   "source": [
    "import fsspec\n",
    "import s3fs\n",
    "import xarray as xr"
   ]
  },
  {
   "cell_type": "code",
   "execution_count": 4,
   "id": "32bdead9-5f24-442e-93bf-715068fd330b",
   "metadata": {},
   "outputs": [],
   "source": [
    "fs = s3fs.S3FileSystem(anon=True,\n",
    "      client_kwargs={\n",
    "         'endpoint_url': 'https://object-store.cloud.muni.cz'\n",
    "      })"
   ]
  },
  {
   "cell_type": "code",
   "execution_count": 5,
   "id": "f9a41ca7-ccd2-4223-ae15-d4119d7657cd",
   "metadata": {},
   "outputs": [],
   "source": [
    "s3path = 's3://foss4g-data/CGLS_LTS_1999_2019/c_gls_NDVI-LTS_1999-2019-1221_GLOBE_VGT-PROBAV_V3.0.1.nc'"
   ]
  },
  {
   "cell_type": "markdown",
   "id": "7d25782c-c132-4e2d-8e72-f560c97693d2",
   "metadata": {},
   "source": [
    "As shown in the [Data discovery](./data_discovery.ipynb) chapter, when we have several files to read at once, we need to use Xarray `open_mfdataset` instead of `open_dataset`. It takes a list in input, and not a single element. We can also use `open_mfdataset` with one file as done below, just as an introduction."
   ]
  },
  {
   "cell_type": "code",
   "execution_count": 6,
   "id": "af670e00-fbad-4f70-a24f-1b6dc7320a8f",
   "metadata": {},
   "outputs": [
    {
     "name": "stdout",
     "output_type": "stream",
     "text": [
      "CPU times: user 592 ms, sys: 87.6 ms, total: 680 ms\n",
      "Wall time: 820 ms\n"
     ]
    },
    {
     "data": {
      "text/html": [
       "<div><svg style=\"position: absolute; width: 0; height: 0; overflow: hidden\">\n",
       "<defs>\n",
       "<symbol id=\"icon-database\" viewBox=\"0 0 32 32\">\n",
       "<path d=\"M16 0c-8.837 0-16 2.239-16 5v4c0 2.761 7.163 5 16 5s16-2.239 16-5v-4c0-2.761-7.163-5-16-5z\"></path>\n",
       "<path d=\"M16 17c-8.837 0-16-2.239-16-5v6c0 2.761 7.163 5 16 5s16-2.239 16-5v-6c0 2.761-7.163 5-16 5z\"></path>\n",
       "<path d=\"M16 26c-8.837 0-16-2.239-16-5v6c0 2.761 7.163 5 16 5s16-2.239 16-5v-6c0 2.761-7.163 5-16 5z\"></path>\n",
       "</symbol>\n",
       "<symbol id=\"icon-file-text2\" viewBox=\"0 0 32 32\">\n",
       "<path d=\"M28.681 7.159c-0.694-0.947-1.662-2.053-2.724-3.116s-2.169-2.030-3.116-2.724c-1.612-1.182-2.393-1.319-2.841-1.319h-15.5c-1.378 0-2.5 1.121-2.5 2.5v27c0 1.378 1.122 2.5 2.5 2.5h23c1.378 0 2.5-1.122 2.5-2.5v-19.5c0-0.448-0.137-1.23-1.319-2.841zM24.543 5.457c0.959 0.959 1.712 1.825 2.268 2.543h-4.811v-4.811c0.718 0.556 1.584 1.309 2.543 2.268zM28 29.5c0 0.271-0.229 0.5-0.5 0.5h-23c-0.271 0-0.5-0.229-0.5-0.5v-27c0-0.271 0.229-0.5 0.5-0.5 0 0 15.499-0 15.5 0v7c0 0.552 0.448 1 1 1h7v19.5z\"></path>\n",
       "<path d=\"M23 26h-14c-0.552 0-1-0.448-1-1s0.448-1 1-1h14c0.552 0 1 0.448 1 1s-0.448 1-1 1z\"></path>\n",
       "<path d=\"M23 22h-14c-0.552 0-1-0.448-1-1s0.448-1 1-1h14c0.552 0 1 0.448 1 1s-0.448 1-1 1z\"></path>\n",
       "<path d=\"M23 18h-14c-0.552 0-1-0.448-1-1s0.448-1 1-1h14c0.552 0 1 0.448 1 1s-0.448 1-1 1z\"></path>\n",
       "</symbol>\n",
       "</defs>\n",
       "</svg>\n",
       "<style>/* CSS stylesheet for displaying xarray objects in jupyterlab.\n",
       " *\n",
       " */\n",
       "\n",
       ":root {\n",
       "  --xr-font-color0: var(--jp-content-font-color0, rgba(0, 0, 0, 1));\n",
       "  --xr-font-color2: var(--jp-content-font-color2, rgba(0, 0, 0, 0.54));\n",
       "  --xr-font-color3: var(--jp-content-font-color3, rgba(0, 0, 0, 0.38));\n",
       "  --xr-border-color: var(--jp-border-color2, #e0e0e0);\n",
       "  --xr-disabled-color: var(--jp-layout-color3, #bdbdbd);\n",
       "  --xr-background-color: var(--jp-layout-color0, white);\n",
       "  --xr-background-color-row-even: var(--jp-layout-color1, white);\n",
       "  --xr-background-color-row-odd: var(--jp-layout-color2, #eeeeee);\n",
       "}\n",
       "\n",
       "html[theme=dark],\n",
       "body[data-theme=dark],\n",
       "body.vscode-dark {\n",
       "  --xr-font-color0: rgba(255, 255, 255, 1);\n",
       "  --xr-font-color2: rgba(255, 255, 255, 0.54);\n",
       "  --xr-font-color3: rgba(255, 255, 255, 0.38);\n",
       "  --xr-border-color: #1F1F1F;\n",
       "  --xr-disabled-color: #515151;\n",
       "  --xr-background-color: #111111;\n",
       "  --xr-background-color-row-even: #111111;\n",
       "  --xr-background-color-row-odd: #313131;\n",
       "}\n",
       "\n",
       ".xr-wrap {\n",
       "  display: block !important;\n",
       "  min-width: 300px;\n",
       "  max-width: 700px;\n",
       "}\n",
       "\n",
       ".xr-text-repr-fallback {\n",
       "  /* fallback to plain text repr when CSS is not injected (untrusted notebook) */\n",
       "  display: none;\n",
       "}\n",
       "\n",
       ".xr-header {\n",
       "  padding-top: 6px;\n",
       "  padding-bottom: 6px;\n",
       "  margin-bottom: 4px;\n",
       "  border-bottom: solid 1px var(--xr-border-color);\n",
       "}\n",
       "\n",
       ".xr-header > div,\n",
       ".xr-header > ul {\n",
       "  display: inline;\n",
       "  margin-top: 0;\n",
       "  margin-bottom: 0;\n",
       "}\n",
       "\n",
       ".xr-obj-type,\n",
       ".xr-array-name {\n",
       "  margin-left: 2px;\n",
       "  margin-right: 10px;\n",
       "}\n",
       "\n",
       ".xr-obj-type {\n",
       "  color: var(--xr-font-color2);\n",
       "}\n",
       "\n",
       ".xr-sections {\n",
       "  padding-left: 0 !important;\n",
       "  display: grid;\n",
       "  grid-template-columns: 150px auto auto 1fr 20px 20px;\n",
       "}\n",
       "\n",
       ".xr-section-item {\n",
       "  display: contents;\n",
       "}\n",
       "\n",
       ".xr-section-item input {\n",
       "  display: none;\n",
       "}\n",
       "\n",
       ".xr-section-item input + label {\n",
       "  color: var(--xr-disabled-color);\n",
       "}\n",
       "\n",
       ".xr-section-item input:enabled + label {\n",
       "  cursor: pointer;\n",
       "  color: var(--xr-font-color2);\n",
       "}\n",
       "\n",
       ".xr-section-item input:enabled + label:hover {\n",
       "  color: var(--xr-font-color0);\n",
       "}\n",
       "\n",
       ".xr-section-summary {\n",
       "  grid-column: 1;\n",
       "  color: var(--xr-font-color2);\n",
       "  font-weight: 500;\n",
       "}\n",
       "\n",
       ".xr-section-summary > span {\n",
       "  display: inline-block;\n",
       "  padding-left: 0.5em;\n",
       "}\n",
       "\n",
       ".xr-section-summary-in:disabled + label {\n",
       "  color: var(--xr-font-color2);\n",
       "}\n",
       "\n",
       ".xr-section-summary-in + label:before {\n",
       "  display: inline-block;\n",
       "  content: '►';\n",
       "  font-size: 11px;\n",
       "  width: 15px;\n",
       "  text-align: center;\n",
       "}\n",
       "\n",
       ".xr-section-summary-in:disabled + label:before {\n",
       "  color: var(--xr-disabled-color);\n",
       "}\n",
       "\n",
       ".xr-section-summary-in:checked + label:before {\n",
       "  content: '▼';\n",
       "}\n",
       "\n",
       ".xr-section-summary-in:checked + label > span {\n",
       "  display: none;\n",
       "}\n",
       "\n",
       ".xr-section-summary,\n",
       ".xr-section-inline-details {\n",
       "  padding-top: 4px;\n",
       "  padding-bottom: 4px;\n",
       "}\n",
       "\n",
       ".xr-section-inline-details {\n",
       "  grid-column: 2 / -1;\n",
       "}\n",
       "\n",
       ".xr-section-details {\n",
       "  display: none;\n",
       "  grid-column: 1 / -1;\n",
       "  margin-bottom: 5px;\n",
       "}\n",
       "\n",
       ".xr-section-summary-in:checked ~ .xr-section-details {\n",
       "  display: contents;\n",
       "}\n",
       "\n",
       ".xr-array-wrap {\n",
       "  grid-column: 1 / -1;\n",
       "  display: grid;\n",
       "  grid-template-columns: 20px auto;\n",
       "}\n",
       "\n",
       ".xr-array-wrap > label {\n",
       "  grid-column: 1;\n",
       "  vertical-align: top;\n",
       "}\n",
       "\n",
       ".xr-preview {\n",
       "  color: var(--xr-font-color3);\n",
       "}\n",
       "\n",
       ".xr-array-preview,\n",
       ".xr-array-data {\n",
       "  padding: 0 5px !important;\n",
       "  grid-column: 2;\n",
       "}\n",
       "\n",
       ".xr-array-data,\n",
       ".xr-array-in:checked ~ .xr-array-preview {\n",
       "  display: none;\n",
       "}\n",
       "\n",
       ".xr-array-in:checked ~ .xr-array-data,\n",
       ".xr-array-preview {\n",
       "  display: inline-block;\n",
       "}\n",
       "\n",
       ".xr-dim-list {\n",
       "  display: inline-block !important;\n",
       "  list-style: none;\n",
       "  padding: 0 !important;\n",
       "  margin: 0;\n",
       "}\n",
       "\n",
       ".xr-dim-list li {\n",
       "  display: inline-block;\n",
       "  padding: 0;\n",
       "  margin: 0;\n",
       "}\n",
       "\n",
       ".xr-dim-list:before {\n",
       "  content: '(';\n",
       "}\n",
       "\n",
       ".xr-dim-list:after {\n",
       "  content: ')';\n",
       "}\n",
       "\n",
       ".xr-dim-list li:not(:last-child):after {\n",
       "  content: ',';\n",
       "  padding-right: 5px;\n",
       "}\n",
       "\n",
       ".xr-has-index {\n",
       "  font-weight: bold;\n",
       "}\n",
       "\n",
       ".xr-var-list,\n",
       ".xr-var-item {\n",
       "  display: contents;\n",
       "}\n",
       "\n",
       ".xr-var-item > div,\n",
       ".xr-var-item label,\n",
       ".xr-var-item > .xr-var-name span {\n",
       "  background-color: var(--xr-background-color-row-even);\n",
       "  margin-bottom: 0;\n",
       "}\n",
       "\n",
       ".xr-var-item > .xr-var-name:hover span {\n",
       "  padding-right: 5px;\n",
       "}\n",
       "\n",
       ".xr-var-list > li:nth-child(odd) > div,\n",
       ".xr-var-list > li:nth-child(odd) > label,\n",
       ".xr-var-list > li:nth-child(odd) > .xr-var-name span {\n",
       "  background-color: var(--xr-background-color-row-odd);\n",
       "}\n",
       "\n",
       ".xr-var-name {\n",
       "  grid-column: 1;\n",
       "}\n",
       "\n",
       ".xr-var-dims {\n",
       "  grid-column: 2;\n",
       "}\n",
       "\n",
       ".xr-var-dtype {\n",
       "  grid-column: 3;\n",
       "  text-align: right;\n",
       "  color: var(--xr-font-color2);\n",
       "}\n",
       "\n",
       ".xr-var-preview {\n",
       "  grid-column: 4;\n",
       "}\n",
       "\n",
       ".xr-var-name,\n",
       ".xr-var-dims,\n",
       ".xr-var-dtype,\n",
       ".xr-preview,\n",
       ".xr-attrs dt {\n",
       "  white-space: nowrap;\n",
       "  overflow: hidden;\n",
       "  text-overflow: ellipsis;\n",
       "  padding-right: 10px;\n",
       "}\n",
       "\n",
       ".xr-var-name:hover,\n",
       ".xr-var-dims:hover,\n",
       ".xr-var-dtype:hover,\n",
       ".xr-attrs dt:hover {\n",
       "  overflow: visible;\n",
       "  width: auto;\n",
       "  z-index: 1;\n",
       "}\n",
       "\n",
       ".xr-var-attrs,\n",
       ".xr-var-data {\n",
       "  display: none;\n",
       "  background-color: var(--xr-background-color) !important;\n",
       "  padding-bottom: 5px !important;\n",
       "}\n",
       "\n",
       ".xr-var-attrs-in:checked ~ .xr-var-attrs,\n",
       ".xr-var-data-in:checked ~ .xr-var-data {\n",
       "  display: block;\n",
       "}\n",
       "\n",
       ".xr-var-data > table {\n",
       "  float: right;\n",
       "}\n",
       "\n",
       ".xr-var-name span,\n",
       ".xr-var-data,\n",
       ".xr-attrs {\n",
       "  padding-left: 25px !important;\n",
       "}\n",
       "\n",
       ".xr-attrs,\n",
       ".xr-var-attrs,\n",
       ".xr-var-data {\n",
       "  grid-column: 1 / -1;\n",
       "}\n",
       "\n",
       "dl.xr-attrs {\n",
       "  padding: 0;\n",
       "  margin: 0;\n",
       "  display: grid;\n",
       "  grid-template-columns: 125px auto;\n",
       "}\n",
       "\n",
       ".xr-attrs dt,\n",
       ".xr-attrs dd {\n",
       "  padding: 0;\n",
       "  margin: 0;\n",
       "  float: left;\n",
       "  padding-right: 10px;\n",
       "  width: auto;\n",
       "}\n",
       "\n",
       ".xr-attrs dt {\n",
       "  font-weight: normal;\n",
       "  grid-column: 1;\n",
       "}\n",
       "\n",
       ".xr-attrs dt:hover span {\n",
       "  display: inline-block;\n",
       "  background: var(--xr-background-color);\n",
       "  padding-right: 10px;\n",
       "}\n",
       "\n",
       ".xr-attrs dd {\n",
       "  grid-column: 2;\n",
       "  white-space: pre-wrap;\n",
       "  word-break: break-all;\n",
       "}\n",
       "\n",
       ".xr-icon-database,\n",
       ".xr-icon-file-text2 {\n",
       "  display: inline-block;\n",
       "  vertical-align: middle;\n",
       "  width: 1em;\n",
       "  height: 1.5em !important;\n",
       "  stroke-width: 0;\n",
       "  stroke: currentColor;\n",
       "  fill: currentColor;\n",
       "}\n",
       "</style><pre class='xr-text-repr-fallback'>&lt;xarray.Dataset&gt;\n",
       "Dimensions:  (lon: 40320, lat: 15680)\n",
       "Coordinates:\n",
       "  * lon      (lon) float64 -180.0 -180.0 -180.0 -180.0 ... 180.0 180.0 180.0\n",
       "  * lat      (lat) float64 80.0 79.99 79.98 79.97 ... -59.97 -59.98 -59.99\n",
       "Data variables:\n",
       "    crs      |S1 ...\n",
       "    min      (lat, lon) float32 dask.array&lt;chunksize=(15680, 40320), meta=np.ndarray&gt;\n",
       "    median   (lat, lon) float32 dask.array&lt;chunksize=(15680, 40320), meta=np.ndarray&gt;\n",
       "    max      (lat, lon) float32 dask.array&lt;chunksize=(15680, 40320), meta=np.ndarray&gt;\n",
       "    mean     (lat, lon) float32 dask.array&lt;chunksize=(15680, 40320), meta=np.ndarray&gt;\n",
       "    stdev    (lat, lon) float32 dask.array&lt;chunksize=(15680, 40320), meta=np.ndarray&gt;\n",
       "    nobs     (lat, lon) float32 dask.array&lt;chunksize=(15680, 40320), meta=np.ndarray&gt;\n",
       "Attributes: (12/19)\n",
       "    Conventions:          CF-1.6\n",
       "    parent_identifier:    urn:cgls:global:ndvi_stats_all\n",
       "    identifier:           urn:cgls:global:ndvi_stats_all:NDVI-LTS_1999-2019-1...\n",
       "    long_name:            Normalized Difference Vegetation Index\n",
       "    title:                Normalized Difference Vegetation Index: Long Term S...\n",
       "    product_version:      V3.0.1\n",
       "    ...                   ...\n",
       "    source:               Derived from EO satellite imagery\n",
       "    processing_mode:      Offline\n",
       "    references:           https://land.copernicus.eu/global/products/ndvi\n",
       "    copyright:            Copernicus Service information 2021\n",
       "    archive_facility:     VITO\n",
       "    history:              2021-03-01 - Processing line NDVI LTS</pre><div class='xr-wrap' style='display:none'><div class='xr-header'><div class='xr-obj-type'>xarray.Dataset</div></div><ul class='xr-sections'><li class='xr-section-item'><input id='section-3202bb06-d0a5-4df2-81ac-1cda6c42eb96' class='xr-section-summary-in' type='checkbox' disabled ><label for='section-3202bb06-d0a5-4df2-81ac-1cda6c42eb96' class='xr-section-summary'  title='Expand/collapse section'>Dimensions:</label><div class='xr-section-inline-details'><ul class='xr-dim-list'><li><span class='xr-has-index'>lon</span>: 40320</li><li><span class='xr-has-index'>lat</span>: 15680</li></ul></div><div class='xr-section-details'></div></li><li class='xr-section-item'><input id='section-ce3d927e-60db-4821-b690-04b94f4e6201' class='xr-section-summary-in' type='checkbox'  checked><label for='section-ce3d927e-60db-4821-b690-04b94f4e6201' class='xr-section-summary' >Coordinates: <span>(2)</span></label><div class='xr-section-inline-details'></div><div class='xr-section-details'><ul class='xr-var-list'><li class='xr-var-item'><div class='xr-var-name'><span class='xr-has-index'>lon</span></div><div class='xr-var-dims'>(lon)</div><div class='xr-var-dtype'>float64</div><div class='xr-var-preview xr-preview'>-180.0 -180.0 ... 180.0 180.0</div><input id='attrs-c4c297c5-166c-440a-989b-ae6f1718cd0a' class='xr-var-attrs-in' type='checkbox' ><label for='attrs-c4c297c5-166c-440a-989b-ae6f1718cd0a' title='Show/Hide attributes'><svg class='icon xr-icon-file-text2'><use xlink:href='#icon-file-text2'></use></svg></label><input id='data-23689254-fc4d-4678-83bf-77d5de672d4d' class='xr-var-data-in' type='checkbox'><label for='data-23689254-fc4d-4678-83bf-77d5de672d4d' title='Show/Hide data repr'><svg class='icon xr-icon-database'><use xlink:href='#icon-database'></use></svg></label><div class='xr-var-attrs'><dl class='xr-attrs'><dt><span>_CoordinateAxisType :</span></dt><dd>Lon</dd><dt><span>axis :</span></dt><dd>X</dd><dt><span>DIMENSION_LABELS :</span></dt><dd>lon</dd><dt><span>long_name :</span></dt><dd>longitude</dd><dt><span>standard_name :</span></dt><dd>longitude</dd><dt><span>units :</span></dt><dd>degrees_east</dd></dl></div><div class='xr-var-data'><pre>array([-180.      , -179.991071, -179.982143, ...,  179.973214,  179.982143,\n",
       "        179.991071])</pre></div></li><li class='xr-var-item'><div class='xr-var-name'><span class='xr-has-index'>lat</span></div><div class='xr-var-dims'>(lat)</div><div class='xr-var-dtype'>float64</div><div class='xr-var-preview xr-preview'>80.0 79.99 79.98 ... -59.98 -59.99</div><input id='attrs-9c6f2df1-53f7-44bd-b00e-8c88de7bf8f1' class='xr-var-attrs-in' type='checkbox' ><label for='attrs-9c6f2df1-53f7-44bd-b00e-8c88de7bf8f1' title='Show/Hide attributes'><svg class='icon xr-icon-file-text2'><use xlink:href='#icon-file-text2'></use></svg></label><input id='data-2cb831ea-a3f0-49ca-8bc8-52ef7fa45b98' class='xr-var-data-in' type='checkbox'><label for='data-2cb831ea-a3f0-49ca-8bc8-52ef7fa45b98' title='Show/Hide data repr'><svg class='icon xr-icon-database'><use xlink:href='#icon-database'></use></svg></label><div class='xr-var-attrs'><dl class='xr-attrs'><dt><span>_CoordinateAxisType :</span></dt><dd>Lat</dd><dt><span>axis :</span></dt><dd>Y</dd><dt><span>DIMENSION_LABELS :</span></dt><dd>lat</dd><dt><span>long_name :</span></dt><dd>latitude</dd><dt><span>standard_name :</span></dt><dd>latitude</dd><dt><span>units :</span></dt><dd>degrees_north</dd></dl></div><div class='xr-var-data'><pre>array([ 80.      ,  79.991071,  79.982143, ..., -59.973214, -59.982143,\n",
       "       -59.991071])</pre></div></li></ul></div></li><li class='xr-section-item'><input id='section-b0dcae19-1e29-420d-86a9-68adf5f6e062' class='xr-section-summary-in' type='checkbox'  checked><label for='section-b0dcae19-1e29-420d-86a9-68adf5f6e062' class='xr-section-summary' >Data variables: <span>(7)</span></label><div class='xr-section-inline-details'></div><div class='xr-section-details'><ul class='xr-var-list'><li class='xr-var-item'><div class='xr-var-name'><span>crs</span></div><div class='xr-var-dims'>()</div><div class='xr-var-dtype'>|S1</div><div class='xr-var-preview xr-preview'>...</div><input id='attrs-346b9b56-9565-4273-98db-09cdccd60c02' class='xr-var-attrs-in' type='checkbox' ><label for='attrs-346b9b56-9565-4273-98db-09cdccd60c02' title='Show/Hide attributes'><svg class='icon xr-icon-file-text2'><use xlink:href='#icon-file-text2'></use></svg></label><input id='data-2a9a8f64-6603-444a-8f6f-9fe9188aef63' class='xr-var-data-in' type='checkbox'><label for='data-2a9a8f64-6603-444a-8f6f-9fe9188aef63' title='Show/Hide data repr'><svg class='icon xr-icon-database'><use xlink:href='#icon-database'></use></svg></label><div class='xr-var-attrs'><dl class='xr-attrs'><dt><span>long_name :</span></dt><dd>coordinate reference system</dd><dt><span>_CoordinateAxisTypes :</span></dt><dd>GeoX GeoY</dd><dt><span>_CoordinateTransformType :</span></dt><dd>Projection</dd><dt><span>grid_mapping_name :</span></dt><dd>latitude_longitude</dd><dt><span>inverse_flattening :</span></dt><dd>298.257223563</dd><dt><span>longitude_of_prime_meridian :</span></dt><dd>0.0</dd><dt><span>semi_major_axis :</span></dt><dd>6378137.0</dd><dt><span>spatial_ref :</span></dt><dd>GEOGCS[&quot;WGS 84&quot;,DATUM[&quot;WGS_1984&quot;,SPHEROID[&quot;WGS 84&quot;,6378137,298.257223563,AUTHORITY[&quot;EPSG&quot;,&quot;7030&quot;]],TOWGS84[0,0,0,0,0,0,0],AUTHORITY[&quot;EPSG&quot;,&quot;6326&quot;]],PRIMEM[&quot;Greenwich&quot;,0,AUTHORITY[&quot;EPSG&quot;,&quot;8901&quot;]],UNIT[&quot;degree&quot;,0.0174532925199433,AUTHORITY[&quot;EPSG&quot;,&quot;9108&quot;]],AUTHORITY[&quot;EPSG&quot;,&quot;4326&quot;]]</dd><dt><span>GeoTransform :</span></dt><dd>-180.0000000000 0.0089285714 0.0 80.0000000000 0.0 -0.0089285714</dd></dl></div><div class='xr-var-data'><pre>array(b&#x27;&#x27;, dtype=&#x27;|S1&#x27;)</pre></div></li><li class='xr-var-item'><div class='xr-var-name'><span>min</span></div><div class='xr-var-dims'>(lat, lon)</div><div class='xr-var-dtype'>float32</div><div class='xr-var-preview xr-preview'>dask.array&lt;chunksize=(15680, 40320), meta=np.ndarray&gt;</div><input id='attrs-150393e8-054d-43cf-a6a8-db8b97171d19' class='xr-var-attrs-in' type='checkbox' ><label for='attrs-150393e8-054d-43cf-a6a8-db8b97171d19' title='Show/Hide attributes'><svg class='icon xr-icon-file-text2'><use xlink:href='#icon-file-text2'></use></svg></label><input id='data-d169348e-eb25-40d3-b50f-347ef3c3756e' class='xr-var-data-in' type='checkbox'><label for='data-d169348e-eb25-40d3-b50f-347ef3c3756e' title='Show/Hide data repr'><svg class='icon xr-icon-database'><use xlink:href='#icon-database'></use></svg></label><div class='xr-var-attrs'><dl class='xr-attrs'><dt><span>standard_name :</span></dt><dd>normalized_difference_vegetation_index</dd><dt><span>long_name :</span></dt><dd>Minimum Normalized Difference Vegetation Index over time period</dd><dt><span>grid_mapping :</span></dt><dd>crs</dd><dt><span>flag_meanings :</span></dt><dd>sea no_data</dd><dt><span>flag_values :</span></dt><dd>[254 255]</dd><dt><span>units :</span></dt><dd></dd><dt><span>valid_range :</span></dt><dd>[  0 250]</dd><dt><span>cell_methods :</span></dt><dd>area: mean time: minimum</dd></dl></div><div class='xr-var-data'><table>\n",
       "    <tr>\n",
       "        <td>\n",
       "            <table>\n",
       "                <thead>\n",
       "                    <tr>\n",
       "                        <td> </td>\n",
       "                        <th> Array </th>\n",
       "                        <th> Chunk </th>\n",
       "                    </tr>\n",
       "                </thead>\n",
       "                <tbody>\n",
       "                    \n",
       "                    <tr>\n",
       "                        <th> Bytes </th>\n",
       "                        <td> 2.36 GiB </td>\n",
       "                        <td> 2.36 GiB </td>\n",
       "                    </tr>\n",
       "                    \n",
       "                    <tr>\n",
       "                        <th> Shape </th>\n",
       "                        <td> (15680, 40320) </td>\n",
       "                        <td> (15680, 40320) </td>\n",
       "                    </tr>\n",
       "                    <tr>\n",
       "                        <th> Count </th>\n",
       "                        <td> 2 Graph Layers </td>\n",
       "                        <td> 1 Chunks </td>\n",
       "                    </tr>\n",
       "                    <tr>\n",
       "                    <th> Type </th>\n",
       "                    <td> float32 </td>\n",
       "                    <td> numpy.ndarray </td>\n",
       "                    </tr>\n",
       "                </tbody>\n",
       "            </table>\n",
       "        </td>\n",
       "        <td>\n",
       "        <svg width=\"170\" height=\"96\" style=\"stroke:rgb(0,0,0);stroke-width:1\" >\n",
       "\n",
       "  <!-- Horizontal lines -->\n",
       "  <line x1=\"0\" y1=\"0\" x2=\"120\" y2=\"0\" style=\"stroke-width:2\" />\n",
       "  <line x1=\"0\" y1=\"46\" x2=\"120\" y2=\"46\" style=\"stroke-width:2\" />\n",
       "\n",
       "  <!-- Vertical lines -->\n",
       "  <line x1=\"0\" y1=\"0\" x2=\"0\" y2=\"46\" style=\"stroke-width:2\" />\n",
       "  <line x1=\"120\" y1=\"0\" x2=\"120\" y2=\"46\" style=\"stroke-width:2\" />\n",
       "\n",
       "  <!-- Colored Rectangle -->\n",
       "  <polygon points=\"0.0,0.0 120.0,0.0 120.0,46.666666666666664 0.0,46.666666666666664\" style=\"fill:#ECB172A0;stroke-width:0\"/>\n",
       "\n",
       "  <!-- Text -->\n",
       "  <text x=\"60.000000\" y=\"66.666667\" font-size=\"1.0rem\" font-weight=\"100\" text-anchor=\"middle\" >40320</text>\n",
       "  <text x=\"140.000000\" y=\"23.333333\" font-size=\"1.0rem\" font-weight=\"100\" text-anchor=\"middle\" transform=\"rotate(-90,140.000000,23.333333)\">15680</text>\n",
       "</svg>\n",
       "        </td>\n",
       "    </tr>\n",
       "</table></div></li><li class='xr-var-item'><div class='xr-var-name'><span>median</span></div><div class='xr-var-dims'>(lat, lon)</div><div class='xr-var-dtype'>float32</div><div class='xr-var-preview xr-preview'>dask.array&lt;chunksize=(15680, 40320), meta=np.ndarray&gt;</div><input id='attrs-253c0f03-d153-4d36-a608-9f4978b256ba' class='xr-var-attrs-in' type='checkbox' ><label for='attrs-253c0f03-d153-4d36-a608-9f4978b256ba' title='Show/Hide attributes'><svg class='icon xr-icon-file-text2'><use xlink:href='#icon-file-text2'></use></svg></label><input id='data-1fb84367-906a-4a4d-949d-0642c2971965' class='xr-var-data-in' type='checkbox'><label for='data-1fb84367-906a-4a4d-949d-0642c2971965' title='Show/Hide data repr'><svg class='icon xr-icon-database'><use xlink:href='#icon-database'></use></svg></label><div class='xr-var-attrs'><dl class='xr-attrs'><dt><span>standard_name :</span></dt><dd>normalized_difference_vegetation_index</dd><dt><span>long_name :</span></dt><dd>Median Normalized Difference Vegetation Index over time period</dd><dt><span>grid_mapping :</span></dt><dd>crs</dd><dt><span>flag_meanings :</span></dt><dd>sea no_data</dd><dt><span>flag_values :</span></dt><dd>[254 255]</dd><dt><span>units :</span></dt><dd></dd><dt><span>valid_range :</span></dt><dd>[  0 250]</dd><dt><span>cell_methods :</span></dt><dd>area: mean time: median</dd></dl></div><div class='xr-var-data'><table>\n",
       "    <tr>\n",
       "        <td>\n",
       "            <table>\n",
       "                <thead>\n",
       "                    <tr>\n",
       "                        <td> </td>\n",
       "                        <th> Array </th>\n",
       "                        <th> Chunk </th>\n",
       "                    </tr>\n",
       "                </thead>\n",
       "                <tbody>\n",
       "                    \n",
       "                    <tr>\n",
       "                        <th> Bytes </th>\n",
       "                        <td> 2.36 GiB </td>\n",
       "                        <td> 2.36 GiB </td>\n",
       "                    </tr>\n",
       "                    \n",
       "                    <tr>\n",
       "                        <th> Shape </th>\n",
       "                        <td> (15680, 40320) </td>\n",
       "                        <td> (15680, 40320) </td>\n",
       "                    </tr>\n",
       "                    <tr>\n",
       "                        <th> Count </th>\n",
       "                        <td> 2 Graph Layers </td>\n",
       "                        <td> 1 Chunks </td>\n",
       "                    </tr>\n",
       "                    <tr>\n",
       "                    <th> Type </th>\n",
       "                    <td> float32 </td>\n",
       "                    <td> numpy.ndarray </td>\n",
       "                    </tr>\n",
       "                </tbody>\n",
       "            </table>\n",
       "        </td>\n",
       "        <td>\n",
       "        <svg width=\"170\" height=\"96\" style=\"stroke:rgb(0,0,0);stroke-width:1\" >\n",
       "\n",
       "  <!-- Horizontal lines -->\n",
       "  <line x1=\"0\" y1=\"0\" x2=\"120\" y2=\"0\" style=\"stroke-width:2\" />\n",
       "  <line x1=\"0\" y1=\"46\" x2=\"120\" y2=\"46\" style=\"stroke-width:2\" />\n",
       "\n",
       "  <!-- Vertical lines -->\n",
       "  <line x1=\"0\" y1=\"0\" x2=\"0\" y2=\"46\" style=\"stroke-width:2\" />\n",
       "  <line x1=\"120\" y1=\"0\" x2=\"120\" y2=\"46\" style=\"stroke-width:2\" />\n",
       "\n",
       "  <!-- Colored Rectangle -->\n",
       "  <polygon points=\"0.0,0.0 120.0,0.0 120.0,46.666666666666664 0.0,46.666666666666664\" style=\"fill:#ECB172A0;stroke-width:0\"/>\n",
       "\n",
       "  <!-- Text -->\n",
       "  <text x=\"60.000000\" y=\"66.666667\" font-size=\"1.0rem\" font-weight=\"100\" text-anchor=\"middle\" >40320</text>\n",
       "  <text x=\"140.000000\" y=\"23.333333\" font-size=\"1.0rem\" font-weight=\"100\" text-anchor=\"middle\" transform=\"rotate(-90,140.000000,23.333333)\">15680</text>\n",
       "</svg>\n",
       "        </td>\n",
       "    </tr>\n",
       "</table></div></li><li class='xr-var-item'><div class='xr-var-name'><span>max</span></div><div class='xr-var-dims'>(lat, lon)</div><div class='xr-var-dtype'>float32</div><div class='xr-var-preview xr-preview'>dask.array&lt;chunksize=(15680, 40320), meta=np.ndarray&gt;</div><input id='attrs-3ea211c5-5a17-4355-be23-16b1abbf58a2' class='xr-var-attrs-in' type='checkbox' ><label for='attrs-3ea211c5-5a17-4355-be23-16b1abbf58a2' title='Show/Hide attributes'><svg class='icon xr-icon-file-text2'><use xlink:href='#icon-file-text2'></use></svg></label><input id='data-3d300670-9928-4992-9983-93f6a956b8ec' class='xr-var-data-in' type='checkbox'><label for='data-3d300670-9928-4992-9983-93f6a956b8ec' title='Show/Hide data repr'><svg class='icon xr-icon-database'><use xlink:href='#icon-database'></use></svg></label><div class='xr-var-attrs'><dl class='xr-attrs'><dt><span>standard_name :</span></dt><dd>normalized_difference_vegetation_index</dd><dt><span>long_name :</span></dt><dd>Maximum Normalized Difference Vegetation Index over time period</dd><dt><span>grid_mapping :</span></dt><dd>crs</dd><dt><span>flag_meanings :</span></dt><dd>sea no_data</dd><dt><span>flag_values :</span></dt><dd>[254 255]</dd><dt><span>units :</span></dt><dd></dd><dt><span>valid_range :</span></dt><dd>[  0 250]</dd><dt><span>cell_methods :</span></dt><dd>area: mean time: maximum</dd></dl></div><div class='xr-var-data'><table>\n",
       "    <tr>\n",
       "        <td>\n",
       "            <table>\n",
       "                <thead>\n",
       "                    <tr>\n",
       "                        <td> </td>\n",
       "                        <th> Array </th>\n",
       "                        <th> Chunk </th>\n",
       "                    </tr>\n",
       "                </thead>\n",
       "                <tbody>\n",
       "                    \n",
       "                    <tr>\n",
       "                        <th> Bytes </th>\n",
       "                        <td> 2.36 GiB </td>\n",
       "                        <td> 2.36 GiB </td>\n",
       "                    </tr>\n",
       "                    \n",
       "                    <tr>\n",
       "                        <th> Shape </th>\n",
       "                        <td> (15680, 40320) </td>\n",
       "                        <td> (15680, 40320) </td>\n",
       "                    </tr>\n",
       "                    <tr>\n",
       "                        <th> Count </th>\n",
       "                        <td> 2 Graph Layers </td>\n",
       "                        <td> 1 Chunks </td>\n",
       "                    </tr>\n",
       "                    <tr>\n",
       "                    <th> Type </th>\n",
       "                    <td> float32 </td>\n",
       "                    <td> numpy.ndarray </td>\n",
       "                    </tr>\n",
       "                </tbody>\n",
       "            </table>\n",
       "        </td>\n",
       "        <td>\n",
       "        <svg width=\"170\" height=\"96\" style=\"stroke:rgb(0,0,0);stroke-width:1\" >\n",
       "\n",
       "  <!-- Horizontal lines -->\n",
       "  <line x1=\"0\" y1=\"0\" x2=\"120\" y2=\"0\" style=\"stroke-width:2\" />\n",
       "  <line x1=\"0\" y1=\"46\" x2=\"120\" y2=\"46\" style=\"stroke-width:2\" />\n",
       "\n",
       "  <!-- Vertical lines -->\n",
       "  <line x1=\"0\" y1=\"0\" x2=\"0\" y2=\"46\" style=\"stroke-width:2\" />\n",
       "  <line x1=\"120\" y1=\"0\" x2=\"120\" y2=\"46\" style=\"stroke-width:2\" />\n",
       "\n",
       "  <!-- Colored Rectangle -->\n",
       "  <polygon points=\"0.0,0.0 120.0,0.0 120.0,46.666666666666664 0.0,46.666666666666664\" style=\"fill:#ECB172A0;stroke-width:0\"/>\n",
       "\n",
       "  <!-- Text -->\n",
       "  <text x=\"60.000000\" y=\"66.666667\" font-size=\"1.0rem\" font-weight=\"100\" text-anchor=\"middle\" >40320</text>\n",
       "  <text x=\"140.000000\" y=\"23.333333\" font-size=\"1.0rem\" font-weight=\"100\" text-anchor=\"middle\" transform=\"rotate(-90,140.000000,23.333333)\">15680</text>\n",
       "</svg>\n",
       "        </td>\n",
       "    </tr>\n",
       "</table></div></li><li class='xr-var-item'><div class='xr-var-name'><span>mean</span></div><div class='xr-var-dims'>(lat, lon)</div><div class='xr-var-dtype'>float32</div><div class='xr-var-preview xr-preview'>dask.array&lt;chunksize=(15680, 40320), meta=np.ndarray&gt;</div><input id='attrs-21055372-953e-47dd-aec0-4b3a98e4da09' class='xr-var-attrs-in' type='checkbox' ><label for='attrs-21055372-953e-47dd-aec0-4b3a98e4da09' title='Show/Hide attributes'><svg class='icon xr-icon-file-text2'><use xlink:href='#icon-file-text2'></use></svg></label><input id='data-cc4134ff-2130-4259-bbb2-20e6ee6c052f' class='xr-var-data-in' type='checkbox'><label for='data-cc4134ff-2130-4259-bbb2-20e6ee6c052f' title='Show/Hide data repr'><svg class='icon xr-icon-database'><use xlink:href='#icon-database'></use></svg></label><div class='xr-var-attrs'><dl class='xr-attrs'><dt><span>standard_name :</span></dt><dd>normalized_difference_vegetation_index</dd><dt><span>long_name :</span></dt><dd>Mean Normalized Difference Vegetation Index over time period</dd><dt><span>grid_mapping :</span></dt><dd>crs</dd><dt><span>flag_meanings :</span></dt><dd>sea no_data</dd><dt><span>flag_values :</span></dt><dd>[254 255]</dd><dt><span>units :</span></dt><dd></dd><dt><span>valid_range :</span></dt><dd>[  0 250]</dd><dt><span>cell_methods :</span></dt><dd>area: mean time: mean</dd></dl></div><div class='xr-var-data'><table>\n",
       "    <tr>\n",
       "        <td>\n",
       "            <table>\n",
       "                <thead>\n",
       "                    <tr>\n",
       "                        <td> </td>\n",
       "                        <th> Array </th>\n",
       "                        <th> Chunk </th>\n",
       "                    </tr>\n",
       "                </thead>\n",
       "                <tbody>\n",
       "                    \n",
       "                    <tr>\n",
       "                        <th> Bytes </th>\n",
       "                        <td> 2.36 GiB </td>\n",
       "                        <td> 2.36 GiB </td>\n",
       "                    </tr>\n",
       "                    \n",
       "                    <tr>\n",
       "                        <th> Shape </th>\n",
       "                        <td> (15680, 40320) </td>\n",
       "                        <td> (15680, 40320) </td>\n",
       "                    </tr>\n",
       "                    <tr>\n",
       "                        <th> Count </th>\n",
       "                        <td> 2 Graph Layers </td>\n",
       "                        <td> 1 Chunks </td>\n",
       "                    </tr>\n",
       "                    <tr>\n",
       "                    <th> Type </th>\n",
       "                    <td> float32 </td>\n",
       "                    <td> numpy.ndarray </td>\n",
       "                    </tr>\n",
       "                </tbody>\n",
       "            </table>\n",
       "        </td>\n",
       "        <td>\n",
       "        <svg width=\"170\" height=\"96\" style=\"stroke:rgb(0,0,0);stroke-width:1\" >\n",
       "\n",
       "  <!-- Horizontal lines -->\n",
       "  <line x1=\"0\" y1=\"0\" x2=\"120\" y2=\"0\" style=\"stroke-width:2\" />\n",
       "  <line x1=\"0\" y1=\"46\" x2=\"120\" y2=\"46\" style=\"stroke-width:2\" />\n",
       "\n",
       "  <!-- Vertical lines -->\n",
       "  <line x1=\"0\" y1=\"0\" x2=\"0\" y2=\"46\" style=\"stroke-width:2\" />\n",
       "  <line x1=\"120\" y1=\"0\" x2=\"120\" y2=\"46\" style=\"stroke-width:2\" />\n",
       "\n",
       "  <!-- Colored Rectangle -->\n",
       "  <polygon points=\"0.0,0.0 120.0,0.0 120.0,46.666666666666664 0.0,46.666666666666664\" style=\"fill:#ECB172A0;stroke-width:0\"/>\n",
       "\n",
       "  <!-- Text -->\n",
       "  <text x=\"60.000000\" y=\"66.666667\" font-size=\"1.0rem\" font-weight=\"100\" text-anchor=\"middle\" >40320</text>\n",
       "  <text x=\"140.000000\" y=\"23.333333\" font-size=\"1.0rem\" font-weight=\"100\" text-anchor=\"middle\" transform=\"rotate(-90,140.000000,23.333333)\">15680</text>\n",
       "</svg>\n",
       "        </td>\n",
       "    </tr>\n",
       "</table></div></li><li class='xr-var-item'><div class='xr-var-name'><span>stdev</span></div><div class='xr-var-dims'>(lat, lon)</div><div class='xr-var-dtype'>float32</div><div class='xr-var-preview xr-preview'>dask.array&lt;chunksize=(15680, 40320), meta=np.ndarray&gt;</div><input id='attrs-d82472fa-06d6-46ad-8ce7-7aecd8c2d5f5' class='xr-var-attrs-in' type='checkbox' ><label for='attrs-d82472fa-06d6-46ad-8ce7-7aecd8c2d5f5' title='Show/Hide attributes'><svg class='icon xr-icon-file-text2'><use xlink:href='#icon-file-text2'></use></svg></label><input id='data-7458b48a-284c-4d0f-a46c-2ae24b14f2f4' class='xr-var-data-in' type='checkbox'><label for='data-7458b48a-284c-4d0f-a46c-2ae24b14f2f4' title='Show/Hide data repr'><svg class='icon xr-icon-database'><use xlink:href='#icon-database'></use></svg></label><div class='xr-var-attrs'><dl class='xr-attrs'><dt><span>standard_name :</span></dt><dd>normalized_difference_vegetation_index</dd><dt><span>long_name :</span></dt><dd>Standard deviation Normalized Difference Vegetation Index over time period</dd><dt><span>grid_mapping :</span></dt><dd>crs</dd><dt><span>flag_meanings :</span></dt><dd>sea no_data</dd><dt><span>flag_values :</span></dt><dd>[254 255]</dd><dt><span>units :</span></dt><dd></dd><dt><span>valid_range :</span></dt><dd>[  0 250]</dd><dt><span>cell_methods :</span></dt><dd>area: mean time: standard_deviation</dd></dl></div><div class='xr-var-data'><table>\n",
       "    <tr>\n",
       "        <td>\n",
       "            <table>\n",
       "                <thead>\n",
       "                    <tr>\n",
       "                        <td> </td>\n",
       "                        <th> Array </th>\n",
       "                        <th> Chunk </th>\n",
       "                    </tr>\n",
       "                </thead>\n",
       "                <tbody>\n",
       "                    \n",
       "                    <tr>\n",
       "                        <th> Bytes </th>\n",
       "                        <td> 2.36 GiB </td>\n",
       "                        <td> 2.36 GiB </td>\n",
       "                    </tr>\n",
       "                    \n",
       "                    <tr>\n",
       "                        <th> Shape </th>\n",
       "                        <td> (15680, 40320) </td>\n",
       "                        <td> (15680, 40320) </td>\n",
       "                    </tr>\n",
       "                    <tr>\n",
       "                        <th> Count </th>\n",
       "                        <td> 2 Graph Layers </td>\n",
       "                        <td> 1 Chunks </td>\n",
       "                    </tr>\n",
       "                    <tr>\n",
       "                    <th> Type </th>\n",
       "                    <td> float32 </td>\n",
       "                    <td> numpy.ndarray </td>\n",
       "                    </tr>\n",
       "                </tbody>\n",
       "            </table>\n",
       "        </td>\n",
       "        <td>\n",
       "        <svg width=\"170\" height=\"96\" style=\"stroke:rgb(0,0,0);stroke-width:1\" >\n",
       "\n",
       "  <!-- Horizontal lines -->\n",
       "  <line x1=\"0\" y1=\"0\" x2=\"120\" y2=\"0\" style=\"stroke-width:2\" />\n",
       "  <line x1=\"0\" y1=\"46\" x2=\"120\" y2=\"46\" style=\"stroke-width:2\" />\n",
       "\n",
       "  <!-- Vertical lines -->\n",
       "  <line x1=\"0\" y1=\"0\" x2=\"0\" y2=\"46\" style=\"stroke-width:2\" />\n",
       "  <line x1=\"120\" y1=\"0\" x2=\"120\" y2=\"46\" style=\"stroke-width:2\" />\n",
       "\n",
       "  <!-- Colored Rectangle -->\n",
       "  <polygon points=\"0.0,0.0 120.0,0.0 120.0,46.666666666666664 0.0,46.666666666666664\" style=\"fill:#ECB172A0;stroke-width:0\"/>\n",
       "\n",
       "  <!-- Text -->\n",
       "  <text x=\"60.000000\" y=\"66.666667\" font-size=\"1.0rem\" font-weight=\"100\" text-anchor=\"middle\" >40320</text>\n",
       "  <text x=\"140.000000\" y=\"23.333333\" font-size=\"1.0rem\" font-weight=\"100\" text-anchor=\"middle\" transform=\"rotate(-90,140.000000,23.333333)\">15680</text>\n",
       "</svg>\n",
       "        </td>\n",
       "    </tr>\n",
       "</table></div></li><li class='xr-var-item'><div class='xr-var-name'><span>nobs</span></div><div class='xr-var-dims'>(lat, lon)</div><div class='xr-var-dtype'>float32</div><div class='xr-var-preview xr-preview'>dask.array&lt;chunksize=(15680, 40320), meta=np.ndarray&gt;</div><input id='attrs-5cc8f8d1-d701-417d-978e-0136620e5bc5' class='xr-var-attrs-in' type='checkbox' ><label for='attrs-5cc8f8d1-d701-417d-978e-0136620e5bc5' title='Show/Hide attributes'><svg class='icon xr-icon-file-text2'><use xlink:href='#icon-file-text2'></use></svg></label><input id='data-81f65aa2-ae4c-413e-bc98-6dd0882eed7e' class='xr-var-data-in' type='checkbox'><label for='data-81f65aa2-ae4c-413e-bc98-6dd0882eed7e' title='Show/Hide data repr'><svg class='icon xr-icon-database'><use xlink:href='#icon-database'></use></svg></label><div class='xr-var-attrs'><dl class='xr-attrs'><dt><span>standard_name :</span></dt><dd>normalized_difference_vegetation_index number_of_observations</dd><dt><span>grid_mapping :</span></dt><dd>crs</dd><dt><span>units :</span></dt><dd></dd><dt><span>valid_range :</span></dt><dd>[  1 250]</dd><dt><span>cell_methods :</span></dt><dd>area: mean</dd></dl></div><div class='xr-var-data'><table>\n",
       "    <tr>\n",
       "        <td>\n",
       "            <table>\n",
       "                <thead>\n",
       "                    <tr>\n",
       "                        <td> </td>\n",
       "                        <th> Array </th>\n",
       "                        <th> Chunk </th>\n",
       "                    </tr>\n",
       "                </thead>\n",
       "                <tbody>\n",
       "                    \n",
       "                    <tr>\n",
       "                        <th> Bytes </th>\n",
       "                        <td> 2.36 GiB </td>\n",
       "                        <td> 2.36 GiB </td>\n",
       "                    </tr>\n",
       "                    \n",
       "                    <tr>\n",
       "                        <th> Shape </th>\n",
       "                        <td> (15680, 40320) </td>\n",
       "                        <td> (15680, 40320) </td>\n",
       "                    </tr>\n",
       "                    <tr>\n",
       "                        <th> Count </th>\n",
       "                        <td> 2 Graph Layers </td>\n",
       "                        <td> 1 Chunks </td>\n",
       "                    </tr>\n",
       "                    <tr>\n",
       "                    <th> Type </th>\n",
       "                    <td> float32 </td>\n",
       "                    <td> numpy.ndarray </td>\n",
       "                    </tr>\n",
       "                </tbody>\n",
       "            </table>\n",
       "        </td>\n",
       "        <td>\n",
       "        <svg width=\"170\" height=\"96\" style=\"stroke:rgb(0,0,0);stroke-width:1\" >\n",
       "\n",
       "  <!-- Horizontal lines -->\n",
       "  <line x1=\"0\" y1=\"0\" x2=\"120\" y2=\"0\" style=\"stroke-width:2\" />\n",
       "  <line x1=\"0\" y1=\"46\" x2=\"120\" y2=\"46\" style=\"stroke-width:2\" />\n",
       "\n",
       "  <!-- Vertical lines -->\n",
       "  <line x1=\"0\" y1=\"0\" x2=\"0\" y2=\"46\" style=\"stroke-width:2\" />\n",
       "  <line x1=\"120\" y1=\"0\" x2=\"120\" y2=\"46\" style=\"stroke-width:2\" />\n",
       "\n",
       "  <!-- Colored Rectangle -->\n",
       "  <polygon points=\"0.0,0.0 120.0,0.0 120.0,46.666666666666664 0.0,46.666666666666664\" style=\"fill:#ECB172A0;stroke-width:0\"/>\n",
       "\n",
       "  <!-- Text -->\n",
       "  <text x=\"60.000000\" y=\"66.666667\" font-size=\"1.0rem\" font-weight=\"100\" text-anchor=\"middle\" >40320</text>\n",
       "  <text x=\"140.000000\" y=\"23.333333\" font-size=\"1.0rem\" font-weight=\"100\" text-anchor=\"middle\" transform=\"rotate(-90,140.000000,23.333333)\">15680</text>\n",
       "</svg>\n",
       "        </td>\n",
       "    </tr>\n",
       "</table></div></li></ul></div></li><li class='xr-section-item'><input id='section-5ebe51d1-31d0-4442-a989-a689b53c1633' class='xr-section-summary-in' type='checkbox'  ><label for='section-5ebe51d1-31d0-4442-a989-a689b53c1633' class='xr-section-summary' >Attributes: <span>(19)</span></label><div class='xr-section-inline-details'></div><div class='xr-section-details'><dl class='xr-attrs'><dt><span>Conventions :</span></dt><dd>CF-1.6</dd><dt><span>parent_identifier :</span></dt><dd>urn:cgls:global:ndvi_stats_all</dd><dt><span>identifier :</span></dt><dd>urn:cgls:global:ndvi_stats_all:NDVI-LTS_1999-2019-1221_GLOBE_V3.0.1</dd><dt><span>long_name :</span></dt><dd>Normalized Difference Vegetation Index</dd><dt><span>title :</span></dt><dd>Normalized Difference Vegetation Index: Long Term Statistics 1KM: GLOBE 1999-2019 1221</dd><dt><span>product_version :</span></dt><dd>V3.0.1</dd><dt><span>time_coverage_start :</span></dt><dd>1999-01-01T00:00:00Z</dd><dt><span>time_coverage_end :</span></dt><dd>2019-12-31T23:59:59Z</dd><dt><span>platform :</span></dt><dd>SPOT-4, SPOT-5, Proba-V</dd><dt><span>sensor :</span></dt><dd>VEGETATION-1, VEGETATION-2, VEGETATION</dd><dt><span>orbit_type :</span></dt><dd>LEO</dd><dt><span>processing_level :</span></dt><dd>L4</dd><dt><span>institution :</span></dt><dd>VITO NV</dd><dt><span>source :</span></dt><dd>Derived from EO satellite imagery</dd><dt><span>processing_mode :</span></dt><dd>Offline</dd><dt><span>references :</span></dt><dd>https://land.copernicus.eu/global/products/ndvi</dd><dt><span>copyright :</span></dt><dd>Copernicus Service information 2021</dd><dt><span>archive_facility :</span></dt><dd>VITO</dd><dt><span>history :</span></dt><dd>2021-03-01 - Processing line NDVI LTS</dd></dl></div></li></ul></div></div>"
      ],
      "text/plain": [
       "<xarray.Dataset>\n",
       "Dimensions:  (lon: 40320, lat: 15680)\n",
       "Coordinates:\n",
       "  * lon      (lon) float64 -180.0 -180.0 -180.0 -180.0 ... 180.0 180.0 180.0\n",
       "  * lat      (lat) float64 80.0 79.99 79.98 79.97 ... -59.97 -59.98 -59.99\n",
       "Data variables:\n",
       "    crs      |S1 ...\n",
       "    min      (lat, lon) float32 dask.array<chunksize=(15680, 40320), meta=np.ndarray>\n",
       "    median   (lat, lon) float32 dask.array<chunksize=(15680, 40320), meta=np.ndarray>\n",
       "    max      (lat, lon) float32 dask.array<chunksize=(15680, 40320), meta=np.ndarray>\n",
       "    mean     (lat, lon) float32 dask.array<chunksize=(15680, 40320), meta=np.ndarray>\n",
       "    stdev    (lat, lon) float32 dask.array<chunksize=(15680, 40320), meta=np.ndarray>\n",
       "    nobs     (lat, lon) float32 dask.array<chunksize=(15680, 40320), meta=np.ndarray>\n",
       "Attributes: (12/19)\n",
       "    Conventions:          CF-1.6\n",
       "    parent_identifier:    urn:cgls:global:ndvi_stats_all\n",
       "    identifier:           urn:cgls:global:ndvi_stats_all:NDVI-LTS_1999-2019-1...\n",
       "    long_name:            Normalized Difference Vegetation Index\n",
       "    title:                Normalized Difference Vegetation Index: Long Term S...\n",
       "    product_version:      V3.0.1\n",
       "    ...                   ...\n",
       "    source:               Derived from EO satellite imagery\n",
       "    processing_mode:      Offline\n",
       "    references:           https://land.copernicus.eu/global/products/ndvi\n",
       "    copyright:            Copernicus Service information 2021\n",
       "    archive_facility:     VITO\n",
       "    history:              2021-03-01 - Processing line NDVI LTS"
      ]
     },
     "execution_count": 6,
     "metadata": {},
     "output_type": "execute_result"
    }
   ],
   "source": [
    "%%time\n",
    "LTS = xr.open_mfdataset([fs.open(s3path)])\n",
    "LTS"
   ]
  },
  {
   "cell_type": "markdown",
   "id": "9e1c5fa8-f144-4330-b927-ea946fb19fce",
   "metadata": {},
   "source": [
    "Using `open_mfdataset` automatically switch from Numpy Arrays to Dask Arrays as the data structure used by Xarray. "
   ]
  },
  {
   "cell_type": "markdown",
   "id": "5e82268f-d173-4baf-9239-94678d5de1b9",
   "metadata": {},
   "source": [
    "<div class=\"alert alert-warning\">\n",
    "    <i class=\"fa-check-circle fa\" style=\"font-size: 22px;color:#666;\"></i> <b>Go Further</b>\n",
    "    <br>\n",
    "    <ul>\n",
    "        <li>You can try to open the same file with xr.open_dataset(fs.open(s3path))</li> \n",
    "        <li>Compare the xarray output between open_mfdataset and open_dataset, what do you see as difference?</li>\n",
    "            </ul>\n",
    "</div>"
   ]
  },
  {
   "cell_type": "markdown",
   "id": "f05d2938-d0ea-41fe-b32c-af81a8055416",
   "metadata": {
    "tags": []
   },
   "source": [
    "## What is a __chunk__\n",
    "\n",
    "If you look carefully to `LTS`, each Data Variable is a `dask.array` with a chunk size of `(15680, 40320)`. So basically accessing one data variable would load arrays of dimensions `(15680, 40320)` into the computer's RAM. You can see this information and more details by clicking the icon as indicated in the image below.\n",
    "\n",
    "![Dask.array](../figures/datasize.png)\n",
    "\n",
    "When you open one or several netCDF files with `open_mdfataset`, by default, the chunks correspond to the entire size of the variable data array read from each file. When you need to analyze large files, a computer's memory may not be sufficient anymore (see in this example, 2.36GiB for one chunk!).\n",
    "\n",
    "This is where understanding and using chunking correctly comes into play.\n"
   ]
  },
  {
   "cell_type": "markdown",
   "id": "4c7dfb0c-5daa-41e8-bbb8-f453be29e1d7",
   "metadata": {},
   "source": [
    "__Chunking__ is splitting a dataset into small pieces. \n",
    "\n",
    "Original dataset is in one piece,  \n",
    "![Dask.array](../figures/notchunked.png)\n",
    "\n",
    "and we split it into several smaller pieces.  \n",
    "![Dask.array](../figures/chunked.png)\n",
    "\n",
    "We split it into pieces so that we can process our data block by block or __chunk__ by __chunk__.\n",
    "\n",
    "In our case, for the moment, the dataset is composed of several files, so already several pieces (or just one in the example above), and Xarray just creates one chunk for each file."
   ]
  },
  {
   "cell_type": "markdown",
   "id": "77a95b34-8ecb-4dca-8c4a-861d9b078012",
   "metadata": {},
   "source": [
    "## Using chunks within a single file\n",
    "\n",
    "When we want to read one or several big files, or files with Big Arrays (the above 2.36GiB per array is already quite big), we will almost certainly need chunks so that we can process files piece by piece.\n",
    "\n",
    "This is usually done with Xarray using the `chunks` kwarg when opening a file with `xr.open_dataset` or with `xr.open_mfdataset`."
   ]
  },
  {
   "cell_type": "code",
   "execution_count": null,
   "id": "3e554760-d78b-4d0f-a276-cf57f886080c",
   "metadata": {},
   "outputs": [],
   "source": [
    "LTS = xr.open_dataset(fs.open(s3path), chunks={\"lon\": 40320 / 2, \"lat\": 15680 / 2})\n",
    "LTS"
   ]
  },
  {
   "cell_type": "markdown",
   "id": "19f05ca7-1439-4a44-aad5-0dda313eeb5f",
   "metadata": {},
   "source": [
    "If you look into details of any variable in the representation above, you'll see that each array is chunked into 4 pieces, 602.96 MiB each, which is already more manageable."
   ]
  },
  {
   "cell_type": "markdown",
   "id": "471b250f-6bf2-4d5c-85b2-c56167eb7a6b",
   "metadata": {},
   "source": [
    "<div class=\"alert alert-warning\">\n",
    "    <i class=\"fa-check-circle fa\" style=\"font-size: 22px;color:#666;\"></i> <b>Warning</b>\n",
    "    <br>\n",
    "    <br>\n",
    "    To access chunk with 602.96MiB each, your proces will first acces to 2GiB of data as the file is not originaly chunked.\n",
    "</div>"
   ]
  },
  {
   "cell_type": "markdown",
   "id": "6d1f923b-6e45-4494-af6c-c537e1791f99",
   "metadata": {},
   "source": [
    "Xarray `Dataset` and `DataArray` objects also have a `chunk` function. We can use it to change our dataset chunks size.\n",
    "Lets try to 'chunk' our data array LTS.nobs using this command.\n",
    "\n",
    "Let's first re-open the same dataset without any chunking."
   ]
  },
  {
   "cell_type": "code",
   "execution_count": null,
   "id": "05c66a2f-bda7-4c8b-8eb7-f5ee2ac8ad86",
   "metadata": {},
   "outputs": [],
   "source": [
    "LTS = xr.open_dataset(fs.open(s3path))"
   ]
  },
  {
   "cell_type": "markdown",
   "id": "babfb689-5a92-4e67-8304-8fecc30f742d",
   "metadata": {},
   "source": [
    "As we would like to play with small sized array, we first select a subset of data as you've learned in [xarray_introduction](./xarray_introduction.ipynb). "
   ]
  },
  {
   "cell_type": "code",
   "execution_count": null,
   "id": "ec60ad82-9abb-42a6-9119-26f9b567b7fc",
   "metadata": {},
   "outputs": [],
   "source": [
    "test = LTS.nobs.sel(lat=slice(80.,70.), lon=slice(70.,90))\n",
    "test"
   ]
  },
  {
   "cell_type": "markdown",
   "id": "59e8990f-5436-4723-a26b-bd396b19bb33",
   "metadata": {},
   "source": [
    "The test value has dimensions `(1121, 2240)`.  We will chunk it on 600x600 pieces using the following command. "
   ]
  },
  {
   "cell_type": "code",
   "execution_count": null,
   "id": "7f644ba3-8eb5-4cf9-bd20-0aebda8bc05e",
   "metadata": {
    "tags": []
   },
   "outputs": [],
   "source": [
    "test=test.chunk(600)\n",
    "test"
   ]
  },
  {
   "cell_type": "markdown",
   "id": "437ce642",
   "metadata": {},
   "source": [
    "As you can see in the above graphics we got 8 __chunks__.  These 8 chunks are noted as (0,0) ..(0,3) (1,0),..(1,3) as you can see in the next visualisation."
   ]
  },
  {
   "cell_type": "markdown",
   "id": "d36efa13-b1e5-429a-9b2c-537b07d9e49a",
   "metadata": {},
   "source": [
    "## Operations on a chunked dataset\n",
    "\n",
    "Let's have a look of our chunked test dataset backend representation."
   ]
  },
  {
   "cell_type": "code",
   "execution_count": null,
   "id": "9768b366",
   "metadata": {
    "collapsed": false,
    "jupyter": {
     "outputs_hidden": false
    }
   },
   "outputs": [],
   "source": [
    "test.data.visualize()"
   ]
  },
  {
   "cell_type": "markdown",
   "id": "1302b99f",
   "metadata": {},
   "source": [
    "` test.data` is the backend array Python representation of Xarray's Data Array, [__Dask Array__](https://docs.dask.org/en/stable/array.html) when using chunking, Numpy by default.\n",
    "\n",
    "We will introduce Dask arrays and Dask graphs visualization in the next section [dask_introduction](./dask_introduction.ipynb)."
   ]
  },
  {
   "cell_type": "markdown",
   "id": "5da222df-6f45-434c-b741-34ef27352199",
   "metadata": {
    "jp-MarkdownHeadingCollapsed": true,
    "tags": []
   },
   "source": [
    "Anyway, when applying `chunk` function you may have the impression that the chunks sizes just changes and everything will be fine.\n",
    "\n",
    "However, as you can see in the graph visualization above, Xarray will actually have to fetch at least one entire initial chunk that was defined when opening the Dataset at first before rechunking at a smaller size or even selecting one value. This is true when applying any funtions on any values: Xarray will work by loading entire chunks.\n",
    "\n",
    "You can imagine that it will not be very optimal if you load one file as an entire chunk, or if your initial chunks are too big (your Python Jupyter kernel may crash!), especially with large numbers of files and large files.\n",
    "\n",
    "You can find a really nice article by Dask team on how to chose the right chunk size [here](https://blog.dask.org/2021/11/02/choosing-dask-chunk-sizes)."
   ]
  },
  {
   "cell_type": "markdown",
   "id": "7ac448da",
   "metadata": {},
   "source": [
    "<div class=\"alert alert-warning\">\n",
    "    <i class=\"fa-check-circle fa\" style=\"font-size: 22px;color:#666;\"></i> <b>Go Further</b>\n",
    "    <br>\n",
    "    <br>\n",
    "    You can try to apply different ways for specifying chunk.\n",
    "    <ul>\n",
    "        <li> chunks = 'auto' -> Xarray relies on Dask to use an ideal size according to the preferred chunk sizes</li>\n",
    "        <li> chunks = -1 -> the entire array will be used as a single chunk\n",
    "        <li> chunks = \"1MiB\" -> Xarray seeks the size according to a specific memory target expressed in MiB</li>\n",
    "        <li> chunks = {'lat'=-1, 'lon'= 1000} -> chunks of entire _lat_ dimension, but splitted every 1000 values on _lon_ dimension</li>\n",
    "        <li> compare the resulting chunked data's shape, size, tasks, data.visualize..... What do you see?</li>\n",
    "    </ul>\n",
    "</div>"
   ]
  },
  {
   "cell_type": "markdown",
   "id": "8df00ba1-46ea-46a6-92e6-433187e8f433",
   "metadata": {
    "jp-MarkdownHeadingCollapsed": true,
    "tags": []
   },
   "source": [
    "## So, why chunks?\n",
    "\n",
    "In the end, chunks are mandatory for accessing files or dataset that are bigger than a singles computer's memory. If all the data has to be accessed, it can be done sequentially e.g. chunks are processed one after the othe).\n",
    "\n",
    "Moreover, chunks allow for distributed processing and so increased speed for your data analysis, as seen in the next episode.\n",
    "\n",
    "### Chunks and files\n",
    "\n",
    "Xarray chunking possibilities also relies on the underlying input or output file format used. Most modern file format allows to store a dataset or a single file using chunks. NetCDF4 uses chunks when storing a file on the disk through the use of HDF5. Any read of data in a NetCDF4 file will lead to the load of at least one chunk of this file. So when reading one of its chunk as defined in `open_dataset` call, Xarray will take advantage of native file chunking and won't have to read the entire file too.\n",
    "\n",
    "Yet, it is really important to note that __Xarray chunks and file chunks are not necessarily the same__. It is however a really good idea to configure Xarray chunks so that they align well on input file format chunks (so ideally, Xarray chunks should contain one or several input file chunks)."
   ]
  },
  {
   "cell_type": "markdown",
   "id": "413a0ddb-3b89-4392-9822-dfaa80111c52",
   "metadata": {},
   "source": [
    "## Zarr storage format\n",
    "\n",
    "This brings to our next subjects [Zarr](https://zarr.readthedocs.io/en/stable/) and [Kerchunk](https://fsspec.github.io/kerchunk/).\n",
    "\n",
    "If we can have our original dataset already 'chunked' and accessed in an optimized way according to it's actual byte storage on disk, we won't need to load entire dataset every time, and our data anlayzis, even working on the entire dataset, will be greatly optimized.\n",
    "\n",
    "Let's convert our input data into Zarr format so that we can learn what it is."
   ]
  },
  {
   "cell_type": "code",
   "execution_count": null,
   "id": "bc4fb079",
   "metadata": {
    "collapsed": false,
    "jupyter": {
     "outputs_hidden": false
    }
   },
   "outputs": [],
   "source": [
    "test.to_dataset().to_zarr('test.zarr',mode='w')"
   ]
  },
  {
   "cell_type": "markdown",
   "id": "42b738c4-0639-433a-a2a9-b188d9459119",
   "metadata": {},
   "source": [
    "<div class=\"alert alert-info\">\n",
    "<i class=\"fa-check-circle fa\" style=\"font-size: 22px;color:#666;\"></i> <b>Warning</b>\n",
    "<br>\n",
    "<ul>\n",
    "<li>DataArray can not be saved as 'zarr'. Before saving your data to zarr, you will need to convert it into a DataSet</li>\n",
    "</ul>\n",
    "</div>"
   ]
  },
  {
   "cell_type": "markdown",
   "id": "e28fa945",
   "metadata": {},
   "source": [
    "<div class=\"alert alert-warning\">\n",
    "    <i class=\"fa-check-circle fa\" style=\"font-size: 22px;color:#666;\"></i> <b>Exercise</b>\n",
    "    <br>\n",
    "    <ul>\n",
    "        <li>You can try to explore the zarr file you just created using `ls -la test.zarr` and  `ls -la test.zarr/nobs `</li>\n",
    "        <li>You can explore zarr metadata file by `cat test.zarr/.zmetadata` </li>\n",
    "        <li>Did you find the __chunks__ we defined previously in your zarr file? </li>\n",
    "    </ul>\n",
    "</div>"
   ]
  },
  {
   "cell_type": "code",
   "execution_count": null,
   "id": "9446367c-4d32-4d0d-8d60-72c3c9d87818",
   "metadata": {},
   "outputs": [],
   "source": [
    "!du -sh test.zarr/"
   ]
  },
  {
   "cell_type": "code",
   "execution_count": null,
   "id": "275b75a6",
   "metadata": {
    "collapsed": false,
    "jupyter": {
     "outputs_hidden": false
    }
   },
   "outputs": [],
   "source": [
    "!ls -al test.zarr/nobs"
   ]
  },
  {
   "cell_type": "code",
   "execution_count": null,
   "id": "1ef0f70a",
   "metadata": {
    "tags": []
   },
   "outputs": [],
   "source": [
    "!cat test.zarr/.zmetadata | head -n 30"
   ]
  },
  {
   "cell_type": "markdown",
   "id": "1fe944f5-662d-4f3c-8ae9-66b1c436b764",
   "metadata": {},
   "source": [
    "Zarr format main characteristics are the following:\n",
    "\n",
    "- Every chunk of a Zarr dataset is stored as a single file (see x.y files in `ls -al test.zarr/nobs`)\n",
    "- Each Data array in a Zarr dataset has a two unique files containing metadata:\n",
    "  - .zattrs for dataset or dataarray general metadatas\n",
    "  - .zarray indicating how the dataarray is chunked, and where to find them on disk or other storage.\n",
    "  \n",
    "Zarr can be considered as an Analysis Ready, cloud optimized data (ARCO) file format, discussed in [data_discovery](./data_discovery.ipynb) section."
   ]
  },
  {
   "cell_type": "markdown",
   "id": "d9103092",
   "metadata": {},
   "source": [
    "## Opening multiple NetCDF files and Kerchunk\n",
    "\n",
    "As shown in the [Data discovery](./data_discovery.ipynb) chapter, when we have several files to read at once, we need to use Xarray `open_mfdataset`. When using `open_mfdataset` with NetCDF files, each NetCDF file is considerd as 'one chunk' by default as seen above.\n",
    "\n",
    "When calling `open_mfdataset`, Xarray also needs to analyse each NetCDF file to get metadatas and tried to build a coherent dataset from them. Thus, it performs multiple operations, like concartenate the coordinate, checking compatibility, etc. This can be time consuming ,especially when dealing with object storage or you have more than thousands of files. And this has to be repeated every time, even if we use exactly the same set of input files for different analysis.\n",
    "\n",
    "[Kerchunk library](https://fsspec.github.io/kerchunk/) can build virtual Zarr Dataset over NetCDF files which enables efficient access to the data from traditional file systems or cloud object storage.\n",
    "\n",
    "And that is not the only optimisation kerchunk brings to pangeo ecosystem."
   ]
  },
  {
   "cell_type": "markdown",
   "id": "dc2feb8d",
   "metadata": {},
   "source": [
    "### Exploiting native file chunks for reading datasets\n",
    "\n",
    "As already mentioned, many data formats (for instance [HDF5](https://en.wikipedia.org/wiki/Hierarchical_Data_Format), [netCDF4](https://unidata.github.io/netcdf4-python/) with HDF5 backend, [geoTIFF](https://en.wikipedia.org/wiki/GeoTIFF)) have chunk capabilities. Chunks are defined at the creation of each file.  Let's call them '__native file chunks__' to distinguish that from '__Dask chunks__'. These native file chunks can be retrieved and used when opening and accessing the files. This will allow to significantly reduce the amount of IOs, bandwith, and memory usage when analyzing Data Variables.\n",
    "\n",
    "[kerchunk library](https://fsspec.github.io/kerchunk/) can extract native file chunk layout and metadata from each file and combine them into one virtual Zarr dataset."
   ]
  },
  {
   "cell_type": "markdown",
   "id": "3b2c231f",
   "metadata": {},
   "source": [
    "### Extract chunk information\n",
    "\n",
    "We extract native file chunk information from each NetCDF file using `kerchunk.hdf`.\n",
    "Let's start with a single file.\n",
    "\n"
   ]
  },
  {
   "cell_type": "code",
   "execution_count": null,
   "id": "f2798bd8",
   "metadata": {
    "collapsed": false,
    "jupyter": {
     "outputs_hidden": false
    }
   },
   "outputs": [],
   "source": [
    "import kerchunk.hdf"
   ]
  },
  {
   "cell_type": "markdown",
   "id": "46a2de91",
   "metadata": {},
   "source": [
    "We use `kerchunk.hdf` because our files are written in `netCDF4`  format which is based on HDF5 and `SingleHdf5ToZarr` to translate the metadata of one HDF5 file into Zarr metadata format. The parameter `inline_threshold` is an *optimization* and tells `SingleHdf5ToZarr` to include chunks smaller than this value directly in the output."
   ]
  },
  {
   "cell_type": "code",
   "execution_count": null,
   "id": "335e1fab",
   "metadata": {
    "collapsed": false,
    "jupyter": {
     "outputs_hidden": false
    }
   },
   "outputs": [],
   "source": [
    "remote_filename = 'https://object-store.cloud.muni.cz/swift/v1/foss4g-data/CGLS_LTS_1999_2019/c_gls_NDVI-LTS_1999-2019-1221_GLOBE_VGT-PROBAV_V3.0.1.nc'\n",
    "with fsspec.open(remote_filename) as inf:\n",
    "    h5chunks = kerchunk.hdf.SingleHdf5ToZarr(inf, remote_filename, inline_threshold=100)\n",
    "    chunk_info = h5chunks.translate()"
   ]
  },
  {
   "cell_type": "markdown",
   "id": "c0bfa43e",
   "metadata": {},
   "source": [
    "Let's have a look at `chunk_info`. It is a Python dictionary so we can use `pprint` to print it nicely.\n",
    "\n",
    "Content is a bit complicated, but it's only metadata in Zarr format indicating what's in the original file, and where the chunks of the file are located (bytes offset)."
   ]
  },
  {
   "cell_type": "code",
   "execution_count": null,
   "id": "33c5ce25",
   "metadata": {
    "collapsed": false,
    "jupyter": {
     "outputs_hidden": false
    },
    "tags": [
     "hide-output"
    ]
   },
   "outputs": [],
   "source": [
    "from pprint import pprint\n",
    "pprint(chunk_info)"
   ]
  },
  {
   "cell_type": "markdown",
   "id": "e4f4ed77",
   "metadata": {},
   "source": [
    "<div class=\"alert alert-warning\">\n",
    "    <i class=\"fa-check-circle fa\" style=\"font-size: 22px;color:#666;\"></i> <b>Exercise</b>\n",
    "    <br>\n",
    "    <ul>\n",
    "        <li>Did you recognise the similarities with test.zarr's zarr metadata file? </li>\n",
    "    </ul>\n",
    "</div>"
   ]
  },
  {
   "cell_type": "markdown",
   "id": "804dffbd",
   "metadata": {},
   "source": [
    "After we have collected information on the native file chunks in the original data file and consolidated our Zarr metadata, we can open the files using `zarr` and pass this chunk information into a storage option. We also need to pass `\"consolidated\": False` because the original dataset does not contain any `zarr` consolidating metadata."
   ]
  },
  {
   "cell_type": "code",
   "execution_count": null,
   "id": "b35a2a88",
   "metadata": {
    "collapsed": false,
    "jupyter": {
     "outputs_hidden": false
    }
   },
   "outputs": [],
   "source": [
    "LTS = xr.open_mfdataset(\n",
    "    \"reference://\", engine=\"zarr\",\n",
    "    backend_kwargs={\n",
    "        \"storage_options\": {\n",
    "            \"fo\": chunk_info,\n",
    "        },\n",
    "        \"consolidated\": False\n",
    "    }\n",
    ")\n",
    "LTS"
   ]
  },
  {
   "cell_type": "markdown",
   "id": "6eb894f3",
   "metadata": {},
   "source": [
    "As you can notice above, all the Data Variables are already chunked according to the native file chunks of the NetCDF file."
   ]
  },
  {
   "cell_type": "markdown",
   "id": "13813577",
   "metadata": {},
   "source": [
    "### Combine all LTS files into one kerchunked single ensemble dataset\n",
    "\n",
    "Now we will combine all the files into one kerchunked consolidated dataset, and try to open it as a xarray dataset."
   ]
  },
  {
   "cell_type": "markdown",
   "id": "1bb8ac14",
   "metadata": {},
   "source": [
    "Let us first collect the chunk information for each file."
   ]
  },
  {
   "cell_type": "code",
   "execution_count": null,
   "id": "b31397e5",
   "metadata": {
    "collapsed": false,
    "jupyter": {
     "outputs_hidden": false
    }
   },
   "outputs": [],
   "source": [
    "fs.ls('foss4g-data/CGLS_LTS_1999_2019/')"
   ]
  },
  {
   "cell_type": "markdown",
   "id": "25c5dfdd",
   "metadata": {},
   "source": [
    "We have 36 files to process, but for this chunking_introduction example, we'll just use 6 file so that it take less time."
   ]
  },
  {
   "cell_type": "code",
   "execution_count": null,
   "id": "1b3bf519",
   "metadata": {
    "collapsed": false,
    "jupyter": {
     "outputs_hidden": false
    }
   },
   "outputs": [],
   "source": [
    "from datetime import datetime"
   ]
  },
  {
   "cell_type": "code",
   "execution_count": null,
   "id": "ada26891",
   "metadata": {
    "collapsed": false,
    "jupyter": {
     "outputs_hidden": false
    }
   },
   "outputs": [],
   "source": [
    "%%time\n",
    "s3path = 's3://foss4g-data/CGLS_LTS_1999_2019/c_gls_NDVI-LTS_1999-2019-0[7-8]*.nc'\n",
    "chunk_info_list = []\n",
    "time_list = []\n",
    "\n",
    "for file in fs.glob(s3path):\n",
    "    url = 'https://object-store.cloud.muni.cz/swift/v1/' + file\n",
    "    t = datetime.strptime(file.split('/')[-1].split('_')[3].replace('1999-', ''), \"%Y-%m%d\")\n",
    "    time_list.append(t)\n",
    "    print('working on ', file)\n",
    "    with fsspec.open(url) as inf:\n",
    "        h5chunks = kerchunk.hdf.SingleHdf5ToZarr(inf, url, inline_threshold=100)\n",
    "        chunk_info_list.append(h5chunks.translate())"
   ]
  },
  {
   "cell_type": "markdown",
   "id": "5545adc5",
   "metadata": {},
   "source": [
    "This time we use `MultiZarrToZarr` to combine multiple kerchunked datasets into a single logical aggregated dataset. Like when opening multiple files with Xarray `open_mfdataset`, we need to tell `MultiZarrToZarr` how to concatenate all the files. There is no time dimension in the original dataset, but one file corresponds to one date (average over the period 1999-2019 for a given 10-day period e.g. January 01, January 11, January 21, etc.)."
   ]
  },
  {
   "cell_type": "code",
   "execution_count": null,
   "id": "7095a0b1",
   "metadata": {
    "collapsed": false,
    "jupyter": {
     "outputs_hidden": false
    }
   },
   "outputs": [],
   "source": [
    "%%time\n",
    "from kerchunk.combine import MultiZarrToZarr\n",
    "mzz = MultiZarrToZarr(\n",
    "    chunk_info_list,\n",
    "    coo_map={'INDEX': 'INDEX'},\n",
    "    identical_dims=['crs'],\n",
    "    concat_dims=[\"INDEX\"],\n",
    ")\n",
    "\n",
    "out = mzz.translate()"
   ]
  },
  {
   "cell_type": "markdown",
   "id": "8db85d9b",
   "metadata": {},
   "source": [
    "Then, we can open the complete dataset using our consolidated Zarr metadata."
   ]
  },
  {
   "cell_type": "code",
   "execution_count": null,
   "id": "c70f8160",
   "metadata": {
    "collapsed": false,
    "jupyter": {
     "outputs_hidden": false
    }
   },
   "outputs": [],
   "source": [
    "%%time\n",
    "LTS = xr.open_mfdataset(\n",
    "    \"reference://\", engine=\"zarr\",\n",
    "    backend_kwargs={\n",
    "        \"storage_options\": {\n",
    "            \"fo\": out,\n",
    "        },\n",
    "        \"consolidated\": False\n",
    "    }\n",
    ")\n",
    "LTS"
   ]
  },
  {
   "cell_type": "markdown",
   "id": "eee93dae",
   "metadata": {},
   "source": [
    "We can save the consolidated metadata for our dataset in a file, and reuse it later to access the dataset."
   ]
  },
  {
   "cell_type": "code",
   "execution_count": null,
   "id": "3a0b9096",
   "metadata": {
    "collapsed": false,
    "jupyter": {
     "outputs_hidden": false
    }
   },
   "outputs": [],
   "source": [
    "import json"
   ]
  },
  {
   "cell_type": "code",
   "execution_count": null,
   "id": "4da8a98a",
   "metadata": {
    "collapsed": false,
    "jupyter": {
     "outputs_hidden": false
    }
   },
   "outputs": [],
   "source": [
    "jsonfile='test.json'\n",
    "with open(jsonfile, mode='w') as f :\n",
    "    json.dump(out, f)"
   ]
  },
  {
   "cell_type": "markdown",
   "id": "4b7baa9e",
   "metadata": {},
   "source": [
    "We can then load data from this catalog."
   ]
  },
  {
   "cell_type": "code",
   "execution_count": null,
   "id": "c8e1c1a2",
   "metadata": {
    "collapsed": false,
    "jupyter": {
     "outputs_hidden": false
    }
   },
   "outputs": [],
   "source": [
    "import xarray as xr\n",
    "LTS = xr.open_mfdataset(\n",
    "    \"reference://\", engine=\"zarr\",\n",
    "    backend_kwargs={\n",
    "        \"storage_options\": {\n",
    "            \"fo\":'./test.json',\n",
    "        },\n",
    "        \"consolidated\": False\n",
    "    }\n",
    ")\n",
    "LTS"
   ]
  },
  {
   "cell_type": "markdown",
   "id": "1e1a8397",
   "metadata": {},
   "source": [
    "The catalog (json file we created) can be shared on the cloud (or GitHub, etc.) and anyone can load it from there too.\n",
    "This approach allows anyone to easily access LTS data and select the Area of Interest for their own study."
   ]
  },
  {
   "cell_type": "markdown",
   "id": "baa71c11",
   "metadata": {},
   "source": [
    "We have prepared json file based on 36 netcdf file, and published it online as catalogue=\"https://object-store.cloud.muni.cz/swift/v1/foss4g-catalogue/c_gls_NDVI-LTS_1999-2019.json\"\n",
    "We can try to load it.\n"
   ]
  },
  {
   "cell_type": "code",
   "execution_count": null,
   "id": "19dd3626-528e-44dc-aeb0-47f1560f525d",
   "metadata": {},
   "outputs": [],
   "source": [
    "catalogue=\"https://object-store.cloud.muni.cz/swift/v1/foss4g-catalogue/c_gls_NDVI-LTS_1999-2019.json\"\n",
    "LTS = xr.open_mfdataset(\n",
    "    \"reference://\", engine=\"zarr\",\n",
    "    backend_kwargs={\n",
    "        \"storage_options\": {\n",
    "            \"fo\":catalogue\n",
    "                    },\n",
    "        \"consolidated\": False\n",
    "    }\n",
    ")\n",
    "LTS"
   ]
  },
  {
   "cell_type": "markdown",
   "id": "ca50a427-f7ca-497d-b4bf-359b68c56f07",
   "metadata": {},
   "source": [
    "We will use this catalogue in [dask_introduction](./dask_introduction.ipynb) chapter. "
   ]
  },
  {
   "cell_type": "markdown",
   "id": "1665722c-4c65-4334-987e-1f5bc4841036",
   "metadata": {},
   "source": [
    "## Conclusion\n",
    "\n",
    "Understanding chunking is key to optimize your data analysis when dealing with big datasets. In this episode we learned how to optimize the data access time and memory resources by exploiting native file chunks from netCDF4 data files and instructing Xarray to access data per chunk. However, computations on big datasets can be very slow on a single computer, and to optimize its time we may need to parallelize your computations. This is what you will learn in the next episode with Dask."
   ]
  },
  {
   "cell_type": "markdown",
   "id": "fdf1f23a-8838-41fe-96d7-4f7b0fb9cc3f",
   "metadata": {},
   "source": [
    "<div class=\"alert alert-success\">\n",
    "    <i class=\"fa-check-circle fa\" style=\"font-size: 22px;color:#666;\"></i> <b>Key Points</b>\n",
    "    <br>\n",
    "    <ul>\n",
    "        <li>Chunking </li>\n",
    "        <li>zarr </li>\n",
    "        <li>kerchunk</li>\n",
    "    </ul>\n",
    "</div>"
   ]
  },
  {
   "cell_type": "markdown",
   "id": "938c80a4",
   "metadata": {},
   "source": [
    "## Packages citation\n",
    "\n",
    "```{bibliography}\n",
    ":style: alpha\n",
    ":filter: topic % \"chunking\" and topic % \"package\"\n",
    ":keyprefix: d-\n",
    "```"
   ]
  }
 ],
 "metadata": {
  "kernelspec": {
   "display_name": "Python 3 (ipykernel)",
   "language": "python",
   "name": "python3"
  },
  "language_info": {
   "codemirror_mode": {
    "name": "ipython",
    "version": 3
   },
   "file_extension": ".py",
   "mimetype": "text/x-python",
   "name": "python",
   "nbconvert_exporter": "python",
   "pygments_lexer": "ipython3",
   "version": "3.9.13"
  }
 },
 "nbformat": 4,
 "nbformat_minor": 5
}
